{
 "cells": [
  {
   "cell_type": "markdown",
   "metadata": {},
   "source": [
    "# Scraping the Data"
   ]
  },
  {
   "cell_type": "code",
   "execution_count": 37,
   "metadata": {},
   "outputs": [],
   "source": [
    "#Dependencies\n",
    "\n",
    "from splinter import Browser\n",
    "from bs4 import BeautifulSoup as bs\n",
    "import pandas as pd\n",
    "import requests\n",
    "import time"
   ]
  },
  {
   "cell_type": "markdown",
   "metadata": {},
   "source": [
    "## NASA Mars News"
   ]
  },
  {
   "cell_type": "code",
   "execution_count": 39,
   "metadata": {},
   "outputs": [],
   "source": [
    "#Scrape the NASA Mars News Site (https://mars.nasa.gov/news/) and collect the latest News Title and Paragraph Text. Assign the text to variables that you can reference later.\n",
    "\n",
    "#Parse the html of the site\n",
    "#LOOK AT HTML TO FIND THE RIGHT TAGS\n",
    "#find() function to store News Title and Paragraph Text <p?> in variables\n",
    "\n",
    "#Title <div class=\"content_title\">\n",
    "#Paragraph Text <div class = \"article_teaser_body\">\n",
    "\n",
    "executable_path = {'executable_path': 'chromedriver.exe'}\n",
    "browser = Browser('chrome', **executable_path, headless=False)\n",
    "\n",
    "url = \"https://mars.nasa.gov/news\"\n",
    "browser.visit(url)\n",
    "time.sleep(5)\n",
    "html = browser.html\n",
    "soup = bs(html, 'html.parser')\n"
   ]
  },
  {
   "cell_type": "code",
   "execution_count": 41,
   "metadata": {},
   "outputs": [
    {
     "output_type": "execute_result",
     "data": {
      "text/plain": " target=\"_self\">Dashboard</a>\n</li>\n<li>\n<a href=\"/#red_planet/1\" target=\"_self\">Science Goals</a>\n</li>\n<li>\n<a href=\"/#red_planet/2\" target=\"_self\">The Planet</a>\n</li>\n<li>\n<a href=\"/#red_planet/3\" target=\"_self\">Atmosphere</a>\n</li>\n<li>\n<a href=\"/#red_planet/4\" target=\"_self\">Astrobiology</a>\n</li>\n<li>\n<a href=\"/#red_planet/5\" target=\"_self\">Past, Present, Future, Timeline</a>\n</li>\n</ul>\n</div>\n</li></ul>\n</div>\n</div>\n<div class=\"sitemap_block\" style=\"position: absolute; left: 207px; top: 0px;\">\n<div class=\"footer_sitemap_item\">\n<h3 class=\"sitemap_title\">\n<a href=\"/#mars_exploration_program\">The Program</a>\n</h3>\n<ul><li>\n<div class=\"global_subnav_container\">\n<ul class=\"subnav\">\n<li>\n<a href=\"/#mars_exploration_program/0\" target=\"_self\">Mission Statement</a>\n</li>\n<li>\n<a href=\"/#mars_exploration_program/1\" target=\"_self\">About the Program</a>\n</li>\n<li>\n<a href=\"/#mars_exploration_program/2\" target=\"_self\">Organization</a>\n</li>\n<li>\n<a href=\"/#mars_exploration_program/3\" target=\"_self\">Why Mars?</a>\n</li>\n<li>\n<a href=\"/#mars_exploration_program/4\" target=\"_self\">Research Programs</a>\n</li>\n<li>\n<a href=\"/#mars_exploration_program/5\" target=\"_self\">Planetary Resources</a>\n</li>\n<li>\n<a href=\"/#mars_exploration_program/6\" target=\"_self\">Technologies</a>\n</li>\n</ul>\n</div>\n</li></ul>\n</div>\n</div>\n<div class=\"sitemap_block\" style=\"position: absolute; left: 414px; top: 0px;\">\n<div class=\"footer_sitemap_item\">\n<h3 class=\"sitemap_title\">\n<a href=\"/#news_and_events\">News &amp; Events</a>\n</h3>\n<ul><li>\n<div class=\"global_subnav_container\">\n<ul class=\"subnav\">\n<li class=\"current\">\n<a href=\"/news\" target=\"_self\">News</a>\n</li>\n<li>\n<a href=\"/events\" target=\"_self\">Events</a>\n</li>\n</ul>\n</div>\n</li></ul>\n</div>\n</div>\n<div class=\"sitemap_block\" style=\"position: absolute; left: 621px; top: 0px;\">\n<div class=\"footer_sitemap_item\">\n<h3 class=\"sitemap_title\">\n<a href=\"/#multimedia\">Multimedia</a>\n</h3>\n<ul><li>\n<div class=\"global_subnav_container\">\n<ul class=\"subnav\">\n<li>\n<a href=\"/multimedia/images/\" target=\"_self\">Images</a>\n</li>\n<li>\n<a href=\"/multimedia/videos/\" target=\"_self\">Videos</a>\n</li>\n<li>\n<a href=\"/multimedia/more-resources/\" target=\"_self\">More Resources</a>\n</li>\n</ul>\n</div>\n</li></ul>\n</div>\n</div>\n<div class=\"sitemap_block\" style=\"position: absolute; left: 414px; top: 108px;\">\n<div class=\"footer_sitemap_item\">\n<h3 class=\"sitemap_title\">\n<a href=\"/#missions_gallery_subnav\">Missions</a>\n</h3>\n<ul><li>\n<div class=\"global_subnav_container\">\n<ul class=\"subnav\">\n<li>\n<a href=\"/mars-exploration/missions/?category=167\" target=\"_self\">Past</a>\n</li>\n<li>\n<a href=\"/mars-exploration/missions/?category=170\" target=\"_self\">Present</a>\n</li>\n<li>\n<a href=\"/mars-exploration/missions/?category=171\" target=\"_self\">Future</a>\n</li>\n<li>\n<a href=\"/mars-exploration/partners\" target=\"_self\">International Partners</a>\n</li>\n</ul>\n</div>\n</li></ul>\n</div>\n</div>\n<div class=\"sitemap_block\" style=\"position: absolute; left: 621px; top: 134px;\">\n<div class=\"footer_sitemap_item\">\n<h3 class=\"sitemap_title\">\n<a href=\"/#more\">More</a>\n</h3>\n<ul><li>\n<div class=\"global_subnav_container\">\n<ul class=\"subnav\">\n</ul>\n</div>\n</li></ul>\n</div>\n</div>\n</div>\n<div class=\"gradient_line\"></div>\n</section>\n<section class=\"lower_footer\">\n<div class=\"nav_container\">\n<nav>\n<ul>\n<li>\n<a href=\"http://science.nasa.gov/\" target=\"_blank\">NASA Science Mission Directorate</a>\n</li>\n<li>\n<a href=\"https://www.jpl.nasa.gov/copyrights.php\" target=\"_blank\">Privacy</a>\n</li>\n<li>\n<a href=\"http://www.jpl.nasa.gov/imagepolicy/\" target=\"_blank\">Image Policy</a>\n</li>\n<li>\n<a href=\"https://mars.nasa.gov/feedback/\" target=\"_self\">Feedback</a>\n</li>\n</ul>\n</nav>\n</div>\n<div class=\"credits\">\n<div class=\"footer_brands_top\">\n<p>Managed by the Mars Exploration Program and the Jet Propulsion Laboratory for NASA’s Science Mission Directorate</p>\n</div>\n<!-- .footer_brands -->\n<!-- %a.jpl{href: \"\", target: \"_blank\"}Institution -->\n<!-- -->\n<!-- %a.caltech{href: \"\", target: \"_blank\"}Institution -->\n<!-- .staff -->\n<!-- %p -->\n<!-- - get_staff_for_category(get_field_from_admin_config(:web_staff_category_id)) -->\n<!-- - @staff.each_with_index do |staff, idx| -->\n<!-- - unless staff.is_in_footer == 0 -->\n<!-- = staff.title + \": \" -->\n<!-- - if staff.contact_link =~ /@/ -->\n<!-- = mail_to staff.contact_link, staff.name, :subject => \"[#{@site_title}]\" -->\n<!-- - elsif staff.contact_link.present? -->\n<!-- = link_to staff.name, staff.contact_link -->\n<!-- - else -->\n<!-- = staff.name -->\n<!-- - unless (idx + 1 == @staff.size) -->\n<!-- %br -->\n</div>\n</section>\n</div>\n</footer>\n</div>\n</div><div id=\"_atssh\" style=\"visibility: hidden; height: 1px; width: 1px; position: absolute; top: -9999px; z-index: 100000;\"><iframe id=\"_atssh678\" src=\"https://s7.addthis.com/static/sh.f48a1a04fe8dbf021b4cda1d.html#rand=0.046075983603216075&amp;iit=1587694492172&amp;tmr=load%3D1587694491966%26core%3D1587694491998%26main%3D1587694492166%26ifr%3D1587694492177&amp;cb=0&amp;cdn=0&amp;md=0&amp;kw=Mars%2Cmissions%2CNASA%2Crover%2CCuriosity%2COpportunity%2CInSight%2CMars%20Reconnaissance%20Orbiter%2Cfacts&amp;ab=-&amp;dh=mars.nasa.gov&amp;dr=&amp;du=https%3A%2F%2Fmars.nasa.gov%2Fnews%2F&amp;href=https%3A%2F%2Fmars.nasa.gov%2Fnews%2F&amp;dt=News%20%20%E2%80%93%20NASA%E2%80%99s%20Mars%20Exploration%20Program&amp;dbg=0&amp;cap=tc%3D0%26ab%3D0&amp;inst=1&amp;jsl=1&amp;prod=undefined&amp;lng=en&amp;ogt=image%2Cupdated_time%2Ctype%3Darticle%2Curl%2Ctitle%2Cdescription%2Csite_name&amp;pc=men&amp;pub=ra-5a690e4c1320e328&amp;ssl=1&amp;sid=5ea24b9b9e4e6ed2&amp;srf=0.01&amp;ver=300&amp;xck=1&amp;xtr=0&amp;og=site_name%3DNASA%25E2%2580%2599s%2520Mars%2520Exploration%2520Program%26description%3DNASA%25E2%2580%2599s%2520real-time%2520portal%2520for%2520Mars%2520exploration%252C%2520featuring%2520the%2520latest%2520news%252C%2520images%252C%2520and%2520discoveries%2520from%2520the%2520Red%2520Planet.%26title%3DNews%2520%2520%25E2%2580%2593%2520NASA%25E2%2580%2599s%2520Mars%2520Exploration%2520Program%26url%3Dhttps%253A%252F%252Fmars.nasa.gov%252Fnews%26type%3Darticle%26updated_time%3D2017-09-22%252019%253A53%253A22%2520UTC%26image%3Dhttps%253A%252F%252Fmars.nasa.gov%252Fsystem%252Fsite_config_values%252Fmeta_share_images%252F1_142497main_PIA03154-200.jpg&amp;csi=undefined&amp;rev=v8.28.3-wp&amp;ct=1&amp;xld=1&amp;xd=1\" style=\"height: 1px; width: 1px; position: absolute; top: 0px; z-index: 100000; border: 0px; left: 0px;\" title=\"AddThis utility frame\"></iframe></div><style id=\"service-icons-0\"></style>\n<script id=\"_fed_an_ua_tag\" src=\"https://dap.digitalgov.gov/Universal-Federated-Analytics-Min.js?agency=NASA&amp;subagency=JPL-Mars-MEPJPL&amp;pua=UA-9453474-9,UA-118212757-11&amp;dclink=true&amp;sp=searchbox&amp;exts=tif,tiff,wav\" type=\"text/javascript\"></script>\n<div aria-labelledby=\"at4-share-label\" class=\"addthis-smartlayers addthis-smartlayers-desktop\" role=\"region\"><div id=\"at4-share-label\">AddThis Sharing Sidebar</div><div class=\"at4-share addthis_32x32_style atss atss-left addthis-animated slideInLeft\" id=\"at4-share\"><a class=\"at-share-btn at-svc-facebook\" role=\"button\" tabindex=\"0\"><span class=\"at4-visually-hidden\">Share to Facebook</span><span class=\"at-icon-wrapper\" style=\"background-color: rgb(59, 89, 152);\"><svg aria-labelledby=\"at-svg-facebook-1\" class=\"at-icon at-icon-facebook\" role=\"img\" style=\"fill: rgb(255, 255, 255);\" version=\"1.1\" viewbox=\"0 0 32 32\" xmlns=\"http://www.w3.org/2000/svg\" xmlns:xlink=\"http://www.w3.org/1999/xlink\"><title id=\"at-svg-facebook-1\">Facebook</title><g><path d=\"M22 5.16c-.406-.054-1.806-.16-3.43-.16-3.4 0-5.733 1.825-5.733 5.17v2.882H9v3.913h3.837V27h4.604V16.965h3.823l.587-3.913h-4.41v-2.5c0-1.123.347-1.903 2.198-1.903H22V5.16z\" fill-rule=\"evenodd\"></path></g></svg></span></a><a class=\"at-share-btn at-svc-twitter\" role=\"button\" tabindex=\"0\"><span class=\"at4-visually-hidden\">Share to Twitter</span><span class=\"at-icon-wrapper\" style=\"background-color: rgb(29, 161, 242);\"><svg aria-labelledby=\"at-svg-twitter-2\" class=\"at-icon at-icon-twitter\" role=\"img\" style=\"fill: rgb(255, 255, 255);\" version=\"1.1\" viewbox=\"0 0 32 32\" xmlns=\"http://www.w3.org/2000/svg\" xmlns:xlink=\"http://www.w3.org/1999/xlink\"><title id=\"at-svg-twitter-2\">Twitter</title><g><path d=\"M27.996 10.116c-.81.36-1.68.602-2.592.71a4.526 4.526 0 0 0 1.984-2.496 9.037 9.037 0 0 1-2.866 1.095 4.513 4.513 0 0 0-7.69 4.116 12.81 12.81 0 0 1-9.3-4.715 4.49 4.49 0 0 0-.612 2.27 4.51 4.51 0 0 0 2.008 3.755 4.495 4.495 0 0 1-2.044-.564v.057a4.515 4.515 0 0 0 3.62 4.425 4.52 4.52 0 0 1-2.04.077 4.517 4.517 0 0 0 4.217 3.134 9.055 9.055 0 0 1-5.604 1.93A9.18 9.18 0 0 1 6 23.85a12.773 12.773 0 0 0 6.918 2.027c8.3 0 12.84-6.876 12.84-12.84 0-.195-.005-.39-.014-.583a9.172 9.172 0 0 0 2.252-2.336\" fill-rule=\"evenodd\"></path></g></svg></span></a><a class=\"at-share-btn at-svc-reddit\" role=\"button\" tabindex=\"0\"><span class=\"at4-visually-hidden\">Share to Reddit</span><span class=\"at-icon-wrapper\" style=\"background-color: rgb(255, 87, 0);\"><svg aria-labelledby=\"at-svg-reddit-3\" class=\"at-icon at-icon-reddit\" role=\"img\" style=\"fill: rgb(255, 255, 255);\" version=\"1.1\" viewbox=\"0 0 32 32\" xmlns=\"http://www.w3.org/2000/svg\" xmlns:xlink=\"http://www.w3.org/1999/xlink\"><title id=\"at-svg-reddit-3\">Reddit</title><g><path d=\"M27 15.5a2.452 2.452 0 0 1-1.338 2.21c.098.38.147.777.147 1.19 0 1.283-.437 2.47-1.308 3.563-.872 1.092-2.06 1.955-3.567 2.588-1.506.634-3.143.95-4.91.95-1.768 0-3.403-.316-4.905-.95-1.502-.632-2.69-1.495-3.56-2.587-.872-1.092-1.308-2.28-1.308-3.562 0-.388.045-.777.135-1.166a2.47 2.47 0 0 1-1.006-.912c-.253-.4-.38-.842-.38-1.322 0-.678.237-1.26.712-1.744a2.334 2.334 0 0 1 1.73-.726c.697 0 1.29.26 1.78.782 1.785-1.258 3.893-1.928 6.324-2.01l1.424-6.467a.42.42 0 0 1 .184-.26.4.4 0 0 1 .32-.063l4.53 1.006c.147-.306.368-.553.662-.74a1.78 1.78 0 0 1 .97-.278c.508 0 .94.18 1.302.54.36.36.54.796.54 1.31 0 .512-.18.95-.54 1.315-.36.364-.794.546-1.302.546-.507 0-.94-.18-1.295-.54a1.793 1.793 0 0 1-.533-1.308l-4.1-.92-1.277 5.86c2.455.074 4.58.736 6.37 1.985a2.315 2.315 0 0 1 1.757-.757c.68 0 1.256.242 1.73.726.476.484.713 1.066.713 1.744zm-16.868 2.47c0 .513.178.95.534 1.315.356.365.787.547 1.295.547.508 0 .942-.182 1.302-.547.36-.364.54-.802.54-1.315 0-.513-.18-.95-.54-1.31-.36-.36-.794-.54-1.3-.54-.5 0-.93.183-1.29.547a1.79 1.79 0 0 0-.54 1.303zm9.944 4.406c.09-.09.135-.2.135-.323a.444.444 0 0 0-.44-.447c-.124 0-.23.042-.32.124-.336.348-.83.605-1.486.77a7.99 7.99 0 0 1-1.964.248 7.99 7.99 0 0 1-1.964-.248c-.655-.165-1.15-.422-1.486-.77a.456.456 0 0 0-.32-.124.414.414 0 0 0-.306.124.41.41 0 0 0-.135.317.45.45 0 0 0 .134.33c.352.355.837.636 1.455.843.617.207 1.118.33 1.503.366a11.6 11.6 0 0 0 1.117.056c.36 0 .733-.02 1.117-.056.385-.037.886-.16 1.504-.366.62-.207 1.104-.488 1.456-.844zm-.037-2.544c.507 0 .938-.182 1.294-.547.356-.364.534-.802.534-1.315 0-.505-.18-.94-.54-1.303a1.75 1.75 0 0 0-1.29-.546c-.506 0-.94.18-1.3.54-.36.36-.54.797-.54 1.31s.18.95.54 1.315c.36.365.794.547 1.3.547z\" fill-rule=\"evenodd\"></path></g></svg></span></a><a class=\"at-share-btn at-svc-email\" role=\"button\" tabindex=\"0\"><span class=\"at4-visually-hidden\">Share to Email</span><span class=\"at-icon-wrapper\" style=\"background-color: rgb(132, 132, 132);\"><svg aria-labelledby=\"at-svg-email-4\" class=\"at-icon at-icon-email\" role=\"img\" style=\"fill: rgb(255, 255, 255);\" version=\"1.1\" viewbox=\"0 0 32 32\" xmlns=\"http://www.w3.org/2000/svg\" xmlns:xlink=\"http://www.w3.org/1999/xlink\"><title id=\"at-svg-email-4\">Email</title><g><g fill-rule=\"evenodd\"></g><path d=\"M27 22.757c0 1.24-.988 2.243-2.19 2.243H7.19C5.98 25 5 23.994 5 22.757V13.67c0-.556.39-.773.855-.496l8.78 5.238c.782.467 1.95.467 2.73 0l8.78-5.238c.472-.28.855-.063.855.495v9.087z\"></path><path d=\"M27 9.243C27 8.006 26.02 7 24.81 7H7.19C5.988 7 5 8.004 5 9.243v.465c0 .554.385 1.232.857 1.514l9.61 5.733c.267.16.8.16 1.067 0l9.61-5.733c.473-.283.856-.96.856-1.514v-.465z\"></path></g></svg></span></a><a class=\"at-share-btn at-svc-compact\" role=\"button\" tabindex=\"0\"><span class=\"at4-visually-hidden\">More AddThis Share options</span><span class=\"at-icon-wrapper\" style=\"background-color: rgb(255, 101, 80);\"><svg aria-labelledby=\"at-svg-addthis-5\" class=\"at-icon at-icon-addthis\" role=\"img\" style=\"fill: rgb(255, 255, 255);\" version=\"1.1\" viewbox=\"0 0 32 32\" xmlns=\"http://www.w3.org/2000/svg\" xmlns:xlink=\"http://www.w3.org/1999/xlink\"><title id=\"at-svg-addthis-5\">AddThis</title><g><path d=\"M18 14V8h-4v6H8v4h6v6h4v-6h6v-4h-6z\" fill-rule=\"evenodd\"></path></g></svg></span></a><div class=\"at-custom-sidebar-counter\" style=\"width: 48px; overflow-wrap: break-word;\"><div class=\"at-custom-sidebar-count\" style=\"color: rgb(34, 34, 34);\">73</div><div class=\"at-custom-sidebar-text\" style=\"color: rgb(34, 34, 34);\">SHARES</div></div><div class=\"at-share-close-control ats-transparent at4-hide-content at4-show\" id=\"at4-scc\" title=\"Hide\"><div class=\"at4-arrow at-left\">Hide</div></div></div><div class=\"at-share-open-control at-share-open-control-left ats-transparent at4-hide\" id=\"at4-soc\" title=\"Show\"><div class=\"at4-arrow at-right\">Show</div></div></div><div aria-labelledby=\"at-thankyou-label\" class=\"at4-thankyou at4-thankyou-background at4-hide ats-transparent at4-thankyou-desktop addthis-smartlayers addthis-animated fadeIn at4-show\" id=\"at4-thankyou\" role=\"dialog\"><div class=\"at4lb-inner\"><button class=\"at4x\" title=\"Close\">Close</button><a id=\"at4-palogo\"><div><a class=\"at-branding-logo\" href=\"https://www.addthis.com/website-tools/overview?utm_source=AddThis%20Tools&amp;utm_medium=image\" target=\"_blank\" title=\"Powered by AddThis\"><div class=\"at-branding-icon\"></div><span class=\"at-branding-addthis\">AddThis</span></a></div></a><div class=\"at4-thankyou-inner\"><div class=\"thankyou-title\" id=\"at-thankyou-label\"></div><div class=\"thankyou-description\"></div><div class=\"at4-thankyou-layer\"></div></div></div></div><div aria-labelledby=\"at-share-dock-label\" class=\"at-share-dock-outer at4-hide addthis-smartlayers at4-visually-hidden addthis-smartlayers-mobile\" role=\"region\"><div class=\"at4-hide\" id=\"at-share-dock-label\">AddThis Sharing</div><div class=\"at-share-dock atss atss-bottom at-shfs-small addthis-animated slideInUp at4-show at4-hide\" id=\"at-share-dock\"><a class=\"at4-count\" href=\"#\" style=\"width: 16.6667%;\"><span class=\"at4-counter\"></span><span class=\"at4-share-label\">SHARES</span></a><a class=\"at-share-btn at-svc-facebook\" role=\"button\" style=\"width: 16.6667%;\" tabindex=\"0\" title=\"Facebook\"><span class=\"at-icon-wrapper\" style=\"background-color: rgb(59, 89, 152);\"><svg alt=\"Facebook\" aria-labelledby=\"at-svg-facebook-6\" class=\"at-icon at-icon-facebook\" role=\"img\" style=\"fill: rgb(255, 255, 255); width: 24px; height: 24px;\" title=\"Facebook\" version=\"1.1\" viewbox=\"0 0 32 32\" xmlns=\"http://www.w3.org/2000/svg\" xmlns:xlink=\"http://www.w3.org/1999/xlink\"><title id=\"at-svg-facebook-6\">Facebook</title><g><path d=\"M22 5.16c-.406-.054-1.806-.16-3.43-.16-3.4 0-5.733 1.825-5.733 5.17v2.882H9v3.913h3.837V27h4.604V16.965h3.823l.587-3.913h-4.41v-2.5c0-1.123.347-1.903 2.198-1.903H22V5.16z\" fill-rule=\"evenodd\"></path></g></svg></span></a><a class=\"at-share-btn at-svc-twitter\" role=\"button\" style=\"width: 16.6667%;\" tabindex=\"0\" title=\"Twitter\"><span class=\"at-icon-wrapper\" style=\"background-color: rgb(29, 161, 242);\"><svg alt=\"Twitter\" aria-labelledby=\"at-svg-twitter-7\" class=\"at-icon at-icon-twitter\" role=\"img\" style=\"fill: rgb(255, 255, 255); width: 24px; height: 24px;\" title=\"Twitter\" version=\"1.1\" viewbox=\"0 0 32 32\" xmlns=\"http://www.w3.org/2000/svg\" xmlns:xlink=\"http://www.w3.org/1999/xlink\"><title id=\"at-svg-twitter-7\">Twitter</title><g><path d=\"M27.996 10.116c-.81.36-1.68.602-2.592.71a4.526 4.526 0 0 0 1.984-2.496 9.037 9.037 0 0 1-2.866 1.095 4.513 4.513 0 0 0-7.69 4.116 12.81 12.81 0 0 1-9.3-4.715 4.49 4.49 0 0 0-.612 2.27 4.51 4.51 0 0 0 2.008 3.755 4.495 4.495 0 0 1-2.044-.564v.057a4.515 4.515 0 0 0 3.62 4.425 4.52 4.52 0 0 1-2.04.077 4.517 4.517 0 0 0 4.217 3.134 9.055 9.055 0 0 1-5.604 1.93A9.18 9.18 0 0 1 6 23.85a12.773 12.773 0 0 0 6.918 2.027c8.3 0 12.84-6.876 12.84-12.84 0-.195-.005-.39-.014-.583a9.172 9.172 0 0 0 2.252-2.336\" fill-rule=\"evenodd\"></path></g></svg></span></a><a class=\"at-share-btn at-svc-reddit\" role=\"button\" style=\"width: 16.6667%;\" tabindex=\"0\" title=\"Reddit\"><span class=\"at-icon-wrapper\" style=\"background-color: rgb(255, 87, 0);\"><svg alt=\"Reddit\" aria-labelledby=\"at-svg-reddit-8\" class=\"at-icon at-icon-reddit\" role=\"img\" style=\"fill: rgb(255, 255, 255); width: 24px; height: 24px;\" title=\"Reddit\" version=\"1.1\" viewbox=\"0 0 32 32\" xmlns=\"http://www.w3.org/2000/svg\" xmlns:xlink=\"http://www.w3.org/1999/xlink\"><title id=\"at-svg-reddit-8\">Reddit</title><g><path d=\"M27 15.5a2.452 2.452 0 0 1-1.338 2.21c.098.38.147.777.147 1.19 0 1.283-.437 2.47-1.308 3.563-.872 1.092-2.06 1.955-3.567 2.588-1.506.634-3.143.95-4.91.95-1.768 0-3.403-.316-4.905-.95-1.502-.632-2.69-1.495-3.56-2.587-.872-1.092-1.308-2.28-1.308-3.562 0-.388.045-.777.135-1.166a2.47 2.47 0 0 1-1.006-.912c-.253-.4-.38-.842-.38-1.322 0-.678.237-1.26.712-1.744a2.334 2.334 0 0 1 1.73-.726c.697 0 1.29.26 1.78.782 1.785-1.258 3.893-1.928 6.324-2.01l1.424-6.467a.42.42 0 0 1 .184-.26.4.4 0 0 1 .32-.063l4.53 1.006c.147-.306.368-.553.662-.74a1.78 1.78 0 0 1 .97-.278c.508 0 .94.18 1.302.54.36.36.54.796.54 1.31 0 .512-.18.95-.54 1.315-.36.364-.794.546-1.302.546-.507 0-.94-.18-1.295-.54a1.793 1.793 0 0 1-.533-1.308l-4.1-.92-1.277 5.86c2.455.074 4.58.736 6.37 1.985a2.315 2.315 0 0 1 1.757-.757c.68 0 1.256.242 1.73.726.476.484.713 1.066.713 1.744zm-16.868 2.47c0 .513.178.95.534 1.315.356.365.787.547 1.295.547.508 0 .942-.182 1.302-.547.36-.364.54-.802.54-1.315 0-.513-.18-.95-.54-1.31-.36-.36-.794-.54-1.3-.54-.5 0-.93.183-1.29.547a1.79 1.79 0 0 0-.54 1.303zm9.944 4.406c.09-.09.135-.2.135-.323a.444.444 0 0 0-.44-.447c-.124 0-.23.042-.32.124-.336.348-.83.605-1.486.77a7.99 7.99 0 0 1-1.964.248 7.99 7.99 0 0 1-1.964-.248c-.655-.165-1.15-.422-1.486-.77a.456.456 0 0 0-.32-.124.414.414 0 0 0-.306.124.41.41 0 0 0-.135.317.45.45 0 0 0 .134.33c.352.355.837.636 1.455.843.617.207 1.118.33 1.503.366a11.6 11.6 0 0 0 1.117.056c.36 0 .733-.02 1.117-.056.385-.037.886-.16 1.504-.366.62-.207 1.104-.488 1.456-.844zm-.037-2.544c.507 0 .938-.182 1.294-.547.356-.364.534-.802.534-1.315 0-.505-.18-.94-.54-1.303a1.75 1.75 0 0 0-1.29-.546c-.506 0-.94.18-1.3.54-.36.36-.54.797-.54 1.31s.18.95.54 1.315c.36.365.794.547 1.3.547z\" fill-rule=\"evenodd\"></path></g></svg></span></a><a class=\"at-share-btn at-svc-email\" role=\"button\" style=\"width: 16.6667%;\" tabindex=\"0\" title=\"Email\"><span class=\"at-icon-wrapper\" style=\"background-color: rgb(132, 132, 132);\"><svg alt=\"Email\" aria-labelledby=\"at-svg-email-9\" class=\"at-icon at-icon-email\" role=\"img\" style=\"fill: rgb(255, 255, 255); width: 24px; height: 24px;\" title=\"Email\" version=\"1.1\" viewbox=\"0 0 32 32\" xmlns=\"http://www.w3.org/2000/svg\" xmlns:xlink=\"http://www.w3.org/1999/xlink\"><title id=\"at-svg-email-9\">Email</title><g><g fill-rule=\"evenodd\"></g><path d=\"M27 22.757c0 1.24-.988 2.243-2.19 2.243H7.19C5.98 25 5 23.994 5 22.757V13.67c0-.556.39-.773.855-.496l8.78 5.238c.782.467 1.95.467 2.73 0l8.78-5.238c.472-.28.855-.063.855.495v9.087z\"></path><path d=\"M27 9.243C27 8.006 26.02 7 24.81 7H7.19C5.988 7 5 8.004 5 9.243v.465c0 .554.385 1.232.857 1.514l9.61 5.733c.267.16.8.16 1.067 0l9.61-5.733c.473-.283.856-.96.856-1.514v-.465z\"></path></g></svg></span></a><a class=\"at-share-btn at-svc-compact\" role=\"button\" style=\"width: 16.6667%;\" tabindex=\"0\" title=\"More\"><span class=\"at-icon-wrapper\" style=\"background-color: rgb(255, 101, 80);\"><svg alt=\"More\" aria-labelledby=\"at-svg-addthis-10\" class=\"at-icon at-icon-addthis\" role=\"img\" style=\"fill: rgb(255, 255, 255); width: 24px; height: 24px;\" title=\"More\" version=\"1.1\" viewbox=\"0 0 32 32\" xmlns=\"http://www.w3.org/2000/svg\" xmlns:xlink=\"http://www.w3.org/1999/xlink\"><title id=\"at-svg-addthis-10\">AddThis</title><g><path d=\"M18 14V8h-4v6H8v4h6v6h4v-6h6v-4h-6z\" fill-rule=\"evenodd\"></path></g></svg></span></a></div></div></body></html>"
     },
     "metadata": {},
     "execution_count": 41
    }
   ],
   "source": [
    "soup"
   ]
  },
  {
   "cell_type": "code",
   "execution_count": 43,
   "metadata": {},
   "outputs": [
    {
     "output_type": "stream",
     "name": "stdout",
     "text": "How NASA's Perseverance Mars Team Adjusted to Work in the Time of Coronavirus \nLike much of the rest of the world, the Mars rover team is pushing forward with its mission-critical work while putting the health and safety of their colleagues and community first.\n"
    }
   ],
   "source": [
    "title = soup.find_all('div', class_='content_title')[1].text\n",
    "paragraph = soup.find_all('div', class_=\"article_teaser_body\")[0].text\n",
    "\n",
    "print(title)\n",
    "print(paragraph)"
   ]
  },
  {
   "cell_type": "markdown",
   "metadata": {},
   "source": [
    "## JPL Mars Space Images"
   ]
  },
  {
   "cell_type": "code",
   "execution_count": 49,
   "metadata": {},
   "outputs": [],
   "source": [
    "#Visit the url for JPL Featured Space Image here (https://www.jpl.nasa.gov/spaceimages/?search=&category=Mars).\n",
    "#Use splinter to navigate the site and find the image url for the current Featured Mars Image and assign the url string to a variable called featured_image_url.\n",
    "#Make sure to find the image url to the full size .jpg image.\n",
    "#Make sure to save a complete url string for this image.\n",
    "\n",
    "#Use splinter to browse(url)\n",
    "#LOOK AT SITE TO GET TO THE CURRENT FEATURED MARS IMAGE TAGS\n",
    "#Use splinter to click on full size image\n",
    "#Parse HTML to get full URL and store in variable\n",
    "\n",
    "executable_path = {'executable_path': 'chromedriver.exe'}\n",
    "browser = Browser('chrome', **executable_path, headless=False)\n",
    "\n",
    "url = 'https://www.jpl.nasa.gov/spaceimages/?search=&category=Mars'\n",
    "browser.visit(url)\n"
   ]
  },
  {
   "cell_type": "code",
   "execution_count": 50,
   "metadata": {},
   "outputs": [],
   "source": [
    "browser.click_link_by_partial_text('FULL')\n",
    "time.sleep(1)"
   ]
  },
  {
   "cell_type": "code",
   "execution_count": 51,
   "metadata": {},
   "outputs": [
    {
     "output_type": "execute_result",
     "data": {
      "text/plain": "77 4.517 4.517 0 0 0 4.217 3.134 9.055 9.055 0 0 1-5.604 1.93A9.18 9.18 0 0 1 6 23.85a12.773 12.773 0 0 0 6.918 2.027c8.3 0 12.84-6.876 12.84-12.84 0-.195-.005-.39-.014-.583a9.172 9.172 0 0 0 2.252-2.336\" fill-rule=\"evenodd\"></path></g></svg></span><span class=\"addthis_follow_label\">Twitter</span></a>\n<a addthis:userid=\"JPLnews\" class=\"addthis_button_youtube_follow icon at300b\" href=\"http://www.youtube.com/user/JPLnews?sub_confirmation=1\" target=\"_blank\" title=\"Follow on YouTube\"><span class=\"at-icon-wrapper\" style=\"background-color: rgb(205, 32, 31); line-height: 32px; height: 32px; width: 32px;\"><svg alt=\"YouTube\" aria-labelledby=\"at-svg-youtube-7\" class=\"at-icon at-icon-youtube\" role=\"img\" style=\"width: 32px; height: 32px;\" title=\"YouTube\" version=\"1.1\" viewbox=\"0 0 32 32\" xmlns=\"http://www.w3.org/2000/svg\" xmlns:xlink=\"http://www.w3.org/1999/xlink\"><title id=\"at-svg-youtube-7\">YouTube</title><g><path d=\"M13.73 18.974V12.57l5.945 3.212-5.944 3.192zm12.18-9.778c-.837-.908-1.775-.912-2.205-.965C20.625 8 16.007 8 16.007 8c-.01 0-4.628 0-7.708.23-.43.054-1.368.058-2.205.966-.66.692-.875 2.263-.875 2.263S5 13.303 5 15.15v1.728c0 1.845.22 3.69.22 3.69s.215 1.57.875 2.262c.837.908 1.936.88 2.426.975 1.76.175 7.482.23 7.482.15 0 .08 4.624.072 7.703-.16.43-.052 1.368-.057 2.205-.965.66-.69.875-2.262.875-2.262s.22-1.845.22-3.69v-1.73c0-1.844-.22-3.69-.22-3.69s-.215-1.57-.875-2.262z\" fill-rule=\"evenodd\"></path></g></svg></span><span class=\"addthis_follow_label\">YouTube</span></a>\n<a addthis:userid=\"nasajpl\" class=\"addthis_button_instagram_follow icon at300b\" href=\"http://instagram.com/nasajpl\" target=\"_blank\" title=\"Follow on Instagram\"><span class=\"at-icon-wrapper\" style=\"background-color: rgb(224, 53, 102); line-height: 32px; height: 32px; width: 32px;\"><svg alt=\"Instagram\" aria-labelledby=\"at-svg-instagram-8\" class=\"at-icon at-icon-instagram\" role=\"img\" style=\"width: 32px; height: 32px;\" title=\"Instagram\" version=\"1.1\" viewbox=\"0 0 32 32\" xmlns=\"http://www.w3.org/2000/svg\" xmlns:xlink=\"http://www.w3.org/1999/xlink\"><title id=\"at-svg-instagram-8\">Instagram</title><g><path d=\"M16 5c-2.987 0-3.362.013-4.535.066-1.17.054-1.97.24-2.67.512a5.392 5.392 0 0 0-1.95 1.268 5.392 5.392 0 0 0-1.267 1.95c-.272.698-.458 1.498-.512 2.67C5.013 12.637 5 13.012 5 16s.013 3.362.066 4.535c.054 1.17.24 1.97.512 2.67.28.724.657 1.337 1.268 1.95a5.392 5.392 0 0 0 1.95 1.268c.698.27 1.498.457 2.67.51 1.172.054 1.547.067 4.534.067s3.362-.013 4.535-.066c1.17-.054 1.97-.24 2.67-.51a5.392 5.392 0 0 0 1.95-1.27 5.392 5.392 0 0 0 1.268-1.95c.27-.698.457-1.498.51-2.67.054-1.172.067-1.547.067-4.534s-.013-3.362-.066-4.535c-.054-1.17-.24-1.97-.51-2.67a5.392 5.392 0 0 0-1.27-1.95 5.392 5.392 0 0 0-1.95-1.267c-.698-.272-1.498-.458-2.67-.512C19.363 5.013 18.988 5 16 5zm0 1.982c2.937 0 3.285.01 4.445.064 1.072.05 1.655.228 2.042.38.514.198.88.437 1.265.822.385.385.624.75.823 1.265.15.387.33.97.38 2.042.052 1.16.063 1.508.063 4.445 0 2.937-.01 3.285-.064 4.445-.05 1.072-.228 1.655-.38 2.042-.198.514-.437.88-.822 1.265-.385.385-.75.624-1.265.823-.387.15-.97.33-2.042.38-1.16.052-1.508.063-4.445.063-2.937 0-3.285-.01-4.445-.064-1.072-.05-1.655-.228-2.042-.38-.514-.198-.88-.437-1.265-.822a3.408 3.408 0 0 1-.823-1.265c-.15-.387-.33-.97-.38-2.042-.052-1.16-.063-1.508-.063-4.445 0-2.937.01-3.285.064-4.445.05-1.072.228-1.655.38-2.042.198-.514.437-.88.822-1.265.385-.385.75-.624 1.265-.823.387-.15.97-.33 2.042-.38 1.16-.052 1.508-.063 4.445-.063zm0 12.685a3.667 3.667 0 1 1 0-7.334 3.667 3.667 0 0 1 0 7.334zm0-9.316a5.65 5.65 0 1 0 0 11.3 5.65 5.65 0 0 0 0-11.3zm7.192-.222a1.32 1.32 0 1 1-2.64 0 1.32 1.32 0 0 1 2.64 0\" fill-rule=\"evenodd\"></path></g></svg></span><span class=\"addthis_follow_label\">Instagram</span></a>\n<a class=\"icon all_icon\" href=\"/social\">\n<span>All</span>\n</a>\n<div class=\"atclear\"></div></div>\n<script>\n                    addthis_loader.init(\"//s7.addthis.com/js/300/addthis_widget.js#pubid=ra-5429eeee4e460927\", {follow: true})\n                  </script>\n</div>\n</div>\n</div>\n<div class=\"gradient_line\"></div>\n</section>\n<section class=\"sitemap\">\n<div class=\"grid_layout\">\n<div class=\"sitemap_directory\">\n<div class=\"sitemap_block\">\n<div class=\"footer_sitemap_item\">\n<h3 class=\"sitemap_title\">\n                      about JPL\n                    </h3>\n<ul class=\"subnav\">\n<li>\n<a href=\"/about/\">About JPL</a>\n</li>\n<li>\n<a href=\"https://www.jpl.nasa.gov/jpl2025/vision/\">JPL Vision</a>\n</li>\n<li>\n<a href=\"/about/exec.php\">Executive Council</a>\n</li>\n<li>\n<a href=\"/about/history.php\">History</a>\n</li>\n<li>\n<a href=\"/about/reports.php\">Annual Reports</a>\n</li>\n<li>\n<a href=\"/contact_JPL.php\">Contact Us</a>\n</li>\n<li>\n<a href=\"/opportunities/\">Opportunities</a>\n</li>\n<li>\n<a href=\"https://thejplstore.com\" target=\"_blank\">JPL Online Store</a>\n</li>\n<li>\n<a href=\"/acquisition/\">Doing Business with JPL</a>\n</li>\n</ul>\n</div>\n<div class=\"footer_sitemap_item\">\n<h3 class=\"sitemap_title\">\n                      missions\n                    </h3>\n<ul class=\"subnav\">\n<li>\n<a href=\"/missions/?type=current\">Current</a>\n</li>\n<li>\n<a href=\"/missions/?type=past\">Past</a>\n</li>\n<li>\n<a href=\"/missions/?type=future\">Future</a>\n</li>\n<li>\n<a href=\"/missions/?type=proposed\">Proposed</a>\n</li>\n<li>\n<a href=\"/missions\">All</a>\n</li>\n</ul>\n</div>\n</div>\n<div class=\"sitemap_block\">\n<div class=\"footer_sitemap_item\">\n<h3 class=\"sitemap_title\">\n                      education\n                    </h3>\n<ul class=\"subnav\">\n<li>\n<a href=\"/edu/intern/\">Intern</a>\n</li>\n<li>\n<a href=\"/edu/learn/\">Learn</a>\n</li>\n<li>\n<a href=\"/edu/teach/\">Teach</a>\n</li>\n<li>\n<a href=\"/edu/news/\">News</a>\n</li>\n<li>\n<a href=\"/edu/events/\">Events</a>\n</li>\n</ul>\n</div>\n<div class=\"footer_sitemap_item\">\n<h3 class=\"sitemap_title\">\n                      news\n                    </h3>\n<ul class=\"subnav\">\n<li>\n<a href=\"/news\">Latest News</a>\n</li>\n<li>\n<a href=\"/news/presskits.php\">Press Kits</a>\n</li>\n<li>\n<a href=\"/news/factsheets.php\">Fact Sheets</a>\n</li>\n<li>\n<a href=\"/news/mediainformation.php\">Media Information</a>\n</li>\n<li>\n<a href=\"/universe/\">Universe Newspaper</a>\n</li>\n</ul>\n</div>\n<div class=\"footer_sitemap_item\">\n<h3 class=\"sitemap_title\">\n                      public events</h3>\n<ul class=\"subnav\">\n<li>\n<a href=\"/events/\">Overview</a>\n</li>\n<li>\n<a href=\"/events/tours/views/\">Tours</a>\n</li>\n<li>\n<a href=\"/events/lectures.php\">Lecture Series</a>\n</li>\n<li>\n<a href=\"/events/speakers-bureau.php\">Speakers Bureau</a>\n</li>\n<li>\n<a href=\"/events/team-competitions.php\">Team Competitions</a>\n</li>\n<li>\n<a href=\"/events/special-events.php\">Special Events</a>\n</li>\n</ul>\n</div>\n</div>\n<div class=\"sitemap_block\">\n<div class=\"footer_sitemap_item\">\n<h3 class=\"sitemap_title\">\n                      Our Sites\n                    </h3>\n<ul class=\"subnav\">\n<li>\n<a href=\"/asteroidwatch/\">Asteroid Watch</a>\n</li>\n<li>\n<a href=\"https://solarsystem.nasa.gov/basics/\" target=\"_blank\">Basics of Spaceflight\n                      </a></li><a href=\"https://solarsystem.nasa.gov/basics/\" target=\"_blank\">\n</a><li><a href=\"https://solarsystem.nasa.gov/basics/\" target=\"_blank\">\n</a><a href=\"https://saturn.jpl.nasa.gov/index.cfm\">Cassini - Mission to Saturn</a>\n</li>\n<li>\n<a href=\"https://climatekids.nasa.gov/index.cfm\">Climate Kids</a>\n</li>\n<li>\n<a href=\"https://climate.nasa.gov\">Earth / Global Climate Change</a>\n</li>\n<li>\n<a href=\"https://planetquest.jpl.nasa.gov\">Exoplanet Exploration</a>\n</li>\n<li>\n<a href=\"/missions/juno/\">Juno - Mission to Jupiter</a>\n</li>\n<li>\n<a href=\"https://mars.nasa.gov/\">Mars Exploration</a>\n</li>\n<li>\n<a href=\"https://scienceandtechnology.jpl.nasa.gov/\">Science and Technology</a>\n</li>\n<li>\n<a href=\"https://solarsystem.nasa.gov/\">Solar System Exploration</a>\n</li>\n<li>\n<a href=\"https://spaceplace.nasa.gov/\">Space Place</a>\n</li>\n<li>\n<a href=\"https://eyes.nasa.gov/\">NASA's Eyes</a>\n</li>\n<li>\n<a href=\"https://www.spitzer.caltech.edu/\">Spitzer Space Telescope</a>\n</li>\n<li>\n<a href=\"https://voyager.jpl.nasa.gov/\">Voyager Interstellar Mission</a>\n</li>\n</ul>\n</div>\n<div class=\"footer_sitemap_item\">\n<h3 class=\"sitemap_title\">\n                      galleries\n                    </h3>\n<ul class=\"subnav\">\n<li>\n<a href=\"/spaceimages/\">JPL Space Images</a>\n</li>\n<li>\n<a href=\"/video/\">Videos</a>\n</li>\n<li>\n<a href=\"/infographics/\">Infographics</a>\n</li>\n<li>\n<a href=\"https://photojournal.jpl.nasa.gov/\">Photojournal</a>\n</li>\n<li>\n<a href=\"http://www.nasaimages.org/\">NASA Images</a>\n</li>\n<li>\n<a href=\"/apps/\">Mobile Apps</a>\n</li>\n</ul>\n</div>\n</div>\n<div class=\"sitemap_block\">\n<div class=\"footer_sitemap_item\">\n<h3 class=\"sitemap_title\">\n                      Follow JPL\n                    </h3>\n<ul class=\"subnav\">\n<li>\n<a href=\"/signup/\">Newsletter</a>\n</li>\n<li>\n<a href=\"https://www.facebook.com/NASAJPL\">Facebook</a>\n</li>\n<li>\n<a href=\"http://twitter.com/NASAJPL\">Twitter</a>\n</li>\n<li>\n<a href=\"http://www.youtube.com/user/JPLnews\">YouTube</a>\n</li>\n<li>\n<a href=\"http://www.flickr.com/photos/nasa-jpl\">Flickr</a>\n</li>\n<li>\n<a href=\"http://instagram.com/nasajpl\">Instagram</a>\n</li>\n<li>\n<a href=\"https://www.linkedin.com/company/2004/\">LinkedIn</a>\n</li>\n<li>\n<a href=\"http://itunes.apple.com/podcast/hd-nasas-jet-propulsion-laboratory/id262254981\">iTunes</a>\n</li>\n<li>\n<a href=\"http://www.ustream.tv/nasajpl\">UStream</a>\n</li>\n<li>\n<a href=\"/rss/\">RSS</a>\n</li>\n<li>\n<a href=\"http://blogs.jpl.nasa.gov\">Blog</a>\n</li>\n<li>\n<a href=\"/onthego/\">Mobile</a>\n</li>\n<li>\n<a href=\"/social/\">All Social Media</a>\n</li>\n</ul>\n</div>\n<div class=\"footer_sitemap_item\">\n<h3 class=\"sitemap_title\">\n                      NASA\n                    </h3>\n<ul class=\"subnav\">\n<li>\n<a href=\"http://jplwater.nasa.gov\">NASA Water Cleanup</a>\n</li>\n<li>\n<a href=\"http://www.hq.nasa.gov/office/pao/FOIA/agency/\">FOIA</a>\n</li>\n</ul>\n</div>\n</div>\n</div>\n</div>\n<div class=\"gradient_line\"></div>\n</section>\n<section class=\"lower_footer\">\n<div class=\"nav_container\">\n<nav>\n<ul>\n<li>\n<a href=\"http://www.nasa.gov/\" target=\"_blank\">NASA</a>\n</li>\n                  |\n                  <li>\n<a href=\"http://www.caltech.edu/\" target=\"_blank\">Caltech</a>\n</li>\n                  |\n                  <li>\n<a href=\"/privacy\">Privacy</a>\n</li>\n                  |\n                  <li>\n<a href=\"/imagepolicy\">Image Policy</a>\n</li>\n                  |\n                  <li>\n<a href=\"/faq.php\">FAQ</a>\n</li>\n                  |\n                  <li>\n<a href=\"/contact_JPL.php\">Feedback</a>\n</li>\n</ul>\n</nav>\n</div>\n<div class=\"credits\">\n<span class=\"credits_manager\">Site Manager: Veronica McGregor</span>\n<span class=\"credits_webmaster\">Site Editors: Tony Greicius, Randal Jackson</span>\n</div>\n</section> </footer>\n</div>\n</div>\n<script src=\"/assets/javascripts/vendor/prefixfree.js\" type=\"text/javascript\"></script><script src=\"/assets/javascripts/vendor/prefixfree.jquery.js\" type=\"text/javascript\"></script><script id=\"_fed_an_ua_tag\" src=\"https://dap.digitalgov.gov/Universal-Federated-Analytics-Min.js?agency=NASA&amp;pua=UA-45212297-1&amp;subagency=JPL&amp;dclink=true&amp;sp=search,s,q&amp;sdor=false&amp;exts=tif,tiff\" type=\"text/javascript\"></script>\n<script type=\"text/javascript\">\nsetTimeout(function(){var a=document.createElement(\"script\");\nvar b=document.getElementsByTagName(\"script\")[0];\na.src=document.location.protocol+\"//script.crazyegg.com/pages/scripts/0025/5267.js?\"+Math.floor(new Date().getTime()/3600000);\na.async=true;a.type=\"text/javascript\";b.parentNode.insertBefore(a,b)}, 1);\n</script>\n<!-- END FOOTER: \"DEFAULT\" -->\n<div id=\"_atssh\" style=\"visibility: hidden; height: 1px; width: 1px; position: absolute; top: -9999px; z-index: 100000;\"><iframe id=\"_atssh859\" src=\"https://s7.addthis.com/static/sh.f48a1a04fe8dbf021b4cda1d.html#rand=0.3011019927429037&amp;iit=1587699318143&amp;tmr=load%3D1587699317984%26core%3D1587699318021%26main%3D1587699318140%26ifr%3D1587699318146&amp;cb=0&amp;cdn=0&amp;md=0&amp;kw=&amp;ab=-&amp;dh=www.jpl.nasa.gov&amp;dr=&amp;du=https%3A%2F%2Fwww.jpl.nasa.gov%2Fspaceimages%2F%3Fsearch%3D%26category%3DMars&amp;href=https%3A%2F%2Fwww.jpl.nasa.gov%2Fspaceimages%2F&amp;dt=Space%20Images&amp;dbg=0&amp;cap=tc%3D0%26ab%3D0&amp;inst=1&amp;jsl=1&amp;prod=undefined&amp;lng=en&amp;ogt=&amp;pc=men&amp;pub=&amp;ssl=1&amp;sid=5ea25e76b5731f91&amp;srf=0.01&amp;ver=300&amp;xck=1&amp;xtr=0&amp;og=&amp;csi=undefined&amp;rev=v8.28.3-wp&amp;ct=1&amp;xld=1&amp;xd=1\" style=\"height: 1px; width: 1px; position: absolute; top: 0px; z-index: 100000; border: 0px; left: 0px;\" title=\"AddThis utility frame\"></iframe></div><style id=\"service-icons-0\"></style><div id=\"fancybox-lock\" style=\"overflow: auto;\"><div class=\"fancybox-wrap fancybox-dark fancybox-type-image fancybox-desktop fancybox-dark-desktop fancybox-open\" style=\"margin: 30px 55px 98px; padding-top: 10px; padding-right: 10px; padding-left: 10px; width: 600px; height: 751px; top: 2px; left: 104px; opacity: 1; overflow: visible;\"><div class=\"fancybox-inner fancybox-skin fancybox-dark-skin fancybox-dark-skin-open\" style=\"border-width: 10px; margin-top: -10px; margin-left: -10px; overflow: visible; width: 600px; height: 646px;\"><img class=\"fancybox-image\" src=\"/spaceimages/images/mediumsize/PIA16682_ip.jpg\" style=\"display: inline;\"/><a class=\"fancybox-nav fancybox-prev\" href=\"javascript:;\" title=\"Previous\"><span></span></a><a class=\"fancybox-nav fancybox-next\" href=\"javascript:;\" title=\"Next\"><span></span></a><a class=\"fancybox-expand\" href=\"javascript:;\" style=\"display: none;\" title=\"Expand image\"></a></div><div class=\"fancybox-title fancybox-title-outside-wrap\" style=\"visibility: visible; opacity: 1; left: 0px;\">Cool Andromeda<div addthis:description=\"In this new view of the Andromeda, also known as M31, galaxy from the Herschel space observatory, cool lanes of forming stars are revealed in the finest detail yet.\" addthis:title=\"Cool Andromeda\" addthis:url=\"/spaceimages/details.php?id=PIA16682\" class=\"addthis_toolbox addthis_default_style\"> <div class=\"buttons\"> <a class=\"addthis_button_compact\" href=\"#\"> <img src=\"/assets/images/content/tmp/images/share.png\"/> </a> <a class=\"button\" href=\"/spaceimages/details.php?id=PIA16682 \" target=\"_top\">more info     </a> </div><div class=\"atclear\"></div></div></div><a class=\"fancybox-close\" href=\"javascript:;\" title=\"Close\"></a><div class=\"fancybox-spacer\" style=\"height: 96px;\"></div></div></div><div class=\"fancybox-overlay fancybox-overlay-fixed fancybox-dark-overlay\"></div><div class=\"bottom\" id=\"fancybox-thumbs\" style=\"width: 937px;\"><a class=\"fancybox-thumb-prev\" href=\"javascript:;\" style=\"display: none;\"><span></span></a><div class=\"outer\"><div class=\"inner\"><ul style=\"width: 3003px; height: 58px; margin-left: 0px;\"><li class=\"fancybox-thumb-active\"><a class=\"ready\" data-index=\"0\" href=\"javascript:jQuery.fancybox.jumpto(0);\" style=\"width: 79px; height: 54px;\"><img src=\"/spaceimages/images/mediumsize/PIA16682_ip.jpg\" style=\"width: 75px; height: 80px; margin-top: -10px; margin-left: 0px;\"/></a></li><li><a class=\"ready\" data-index=\"1\" href=\"javascript:jQuery.fancybox.jumpto(1);\" style=\"width: 79px; height: 54px;\"><img src=\"/spaceimages/images/wallpaper/PIA23844-640x350.jpg\" style=\"width: 91px; height: 50px; margin-top: 0px; margin-left: -9px;\"/></a></li><li><a class=\"ready\" data-index=\"2\" href=\"javascript:jQuery.fancybox.jumpto(2);\" style=\"width: 79px; height: 54px;\"><img src=\"/spaceimages/images/wallpaper/PIA23843-640x350.jpg\" style=\"width: 91px; height: 50px; margin-top: 0px; margin-left: -9px;\"/></a></li><li><a class=\"ready\" data-index=\"3\" href=\"javascript:jQuery.fancybox.jumpto(3);\" style=\"width: 79px; height: 54px;\"><img src=\"/spaceimages/images/wallpaper/PIA23842-640x350.jpg\" style=\"width: 91px; height: 50px; margin-top: 0px; margin-left: -9px;\"/></a></li><li><a class=\"ready\" data-index=\"4\" href=\"javascript:jQuery.fancybox.jumpto(4);\" style=\"width: 79px; height: 54px;\"><img src=\"/spaceimages/images/wallpaper/PIA23841-640x350.jpg\" style=\"width: 91px; height: 50px; margin-top: 0px; margin-left: -9px;\"/></a></li><li><a class=\"ready\" data-index=\"5\" href=\"javascript:jQuery.fancybox.jumpto(5);\" style=\"width: 79px; height: 54px;\"><img src=\"/spaceimages/images/wallpaper/PIA23855-640x350.jpg\" style=\"width: 91px; height: 50px; margin-top: 0px; margin-left: -9px;\"/></a></li><li><a class=\"ready\" data-index=\"6\" href=\"javascript:jQuery.fancybox.jumpto(6);\" style=\"width: 79px; height: 54px;\"><img src=\"/spaceimages/images/wallpaper/PIA23854-640x350.jpg\" style=\"width: 91px; height: 50px; margin-top: 0px; margin-left: -9px;\"/></a></li><li><a class=\"ready\" data-index=\"7\" href=\"javascript:jQuery.fancybox.jumpto(7);\" style=\"width: 79px; height: 54px;\"><img src=\"/spaceimages/images/wallpaper/PIA23853-640x350.jpg\" style=\"width: 91px; height: 50px; margin-top: 0px; margin-left: -9px;\"/></a></li><li><a class=\"ready\" data-index=\"8\" href=\"javascript:jQuery.fancybox.jumpto(8);\" style=\"width: 79px; height: 54px;\"><img src=\"/spaceimages/images/wallpaper/PIA23852-640x350.jpg\" style=\"width: 91px; height: 50px; margin-top: 0px; margin-left: -9px;\"/></a></li><li><a class=\"ready\" data-index=\"9\" href=\"javascript:jQuery.fancybox.jumpto(9);\" style=\"width: 79px; height: 54px;\"><img src=\"/spaceimages/images/wallpaper/PIA23840-640x350.jpg\" style=\"width: 91px; height: 50px; margin-top: 0px; margin-left: -9px;\"/></a></li><li><a data-index=\"10\" href=\"javascript:jQuery.fancybox.jumpto(10);\" style=\"width: 79px; height: 54px;\"></a></li><li><a data-index=\"11\" href=\"javascript:jQuery.fancybox.jumpto(11);\" style=\"width: 79px; height: 54px;\"></a></li><li><a data-index=\"12\" href=\"javascript:jQuery.fancybox.jumpto(12);\" style=\"width: 79px; height: 54px;\"></a></li><li><a data-index=\"13\" href=\"javascript:jQuery.fancybox.jumpto(13);\" style=\"width: 79px; height: 54px;\"></a></li><li><a data-index=\"14\" href=\"javascript:jQuery.fancybox.jumpto(14);\" style=\"width: 79px; height: 54px;\"></a></li><li><a data-index=\"15\" href=\"javascript:jQuery.fancybox.jumpto(15);\" style=\"width: 79px; height: 54px;\"></a></li><li><a data-index=\"16\" href=\"javascript:jQuery.fancybox.jumpto(16);\" style=\"width: 79px; height: 54px;\"></a></li><li><a data-index=\"17\" href=\"javascript:jQuery.fancybox.jumpto(17);\" style=\"width: 79px; height: 54px;\"></a></li><li><a data-index=\"18\" href=\"javascript:jQuery.fancybox.jumpto(18);\" style=\"width: 79px; height: 54px;\"></a></li><li><a data-index=\"19\" href=\"javascript:jQuery.fancybox.jumpto(19);\" style=\"width: 79px; height: 54px;\"></a></li><li><a data-index=\"20\" href=\"javascript:jQuery.fancybox.jumpto(20);\" style=\"width: 79px; height: 54px;\"></a></li><li><a data-index=\"21\" href=\"javascript:jQuery.fancybox.jumpto(21);\" style=\"width: 79px; height: 54px;\"></a></li><li><a data-index=\"22\" href=\"javascript:jQuery.fancybox.jumpto(22);\" style=\"width: 79px; height: 54px;\"></a></li><li><a data-index=\"23\" href=\"javascript:jQuery.fancybox.jumpto(23);\" style=\"width: 79px; height: 54px;\"></a></li><li><a data-index=\"24\" href=\"javascript:jQuery.fancybox.jumpto(24);\" style=\"width: 79px; height: 54px;\"></a></li><li><a data-index=\"25\" href=\"javascript:jQuery.fancybox.jumpto(25);\" style=\"width: 79px; height: 54px;\"></a></li><li><a data-index=\"26\" href=\"javascript:jQuery.fancybox.jumpto(26);\" style=\"width: 79px; height: 54px;\"></a></li><li><a data-index=\"27\" href=\"javascript:jQuery.fancybox.jumpto(27);\" style=\"width: 79px; height: 54px;\"></a></li><li><a data-index=\"28\" href=\"javascript:jQuery.fancybox.jumpto(28);\" style=\"width: 79px; height: 54px;\"></a></li><li><a data-index=\"29\" href=\"javascript:jQuery.fancybox.jumpto(29);\" style=\"width: 79px; height: 54px;\"></a></li><li><a data-index=\"30\" href=\"javascript:jQuery.fancybox.jumpto(30);\" style=\"width: 79px; height: 54px;\"></a></li><li><a data-index=\"31\" href=\"javascript:jQuery.fancybox.jumpto(31);\" style=\"width: 79px; height: 54px;\"></a></li><li><a data-index=\"32\" href=\"javascript:jQuery.fancybox.jumpto(32);\" style=\"width: 79px; height: 54px;\"></a></li></ul></div></div><a class=\"fancybox-thumb-next\" href=\"javascript:;\" style=\"display: inline;\"><span></span></a></div></body></html>"
     },
     "metadata": {},
     "execution_count": 51
    }
   ],
   "source": [
    "html = browser.html\n",
    "soup = bs(html, 'html.parser')\n",
    "soup"
   ]
  },
  {
   "cell_type": "code",
   "execution_count": 52,
   "metadata": {},
   "outputs": [
    {
     "output_type": "stream",
     "name": "stdout",
     "text": "https://www.jpl.nasa/gov/spaceimages/images/mediumsize/PIA16682_ip.jpg\n"
    }
   ],
   "source": [
    "featured_url = soup.find('img', class_='fancybox-image')['src']\n",
    "featured_image_url = 'https://www.jpl.nasa.gov'+featured_url\n",
    "print(featured_image_url)"
   ]
  },
  {
   "cell_type": "markdown",
   "metadata": {},
   "source": [
    "## Mars Weather"
   ]
  },
  {
   "cell_type": "code",
   "execution_count": 54,
   "metadata": {},
   "outputs": [],
   "source": [
    "#Visit the Mars Weather twitter account here (https://twitter.com/marswxreport?lang=en) and scrape the latest Mars weather tweet from the page. Save the tweet text for the weather report as a variable called mars_weather\n",
    "\n",
    "#LOOK AT HTML OF SITE when not logged into Twitter\n",
    "#Parse HTML of the URL and use the find() funtion to get the tag of the latest tweet\n",
    "#Save it as a variable\n",
    "\n",
    "executable_path = {'executable_path': 'chromedriver.exe'}\n",
    "browser = Browser('chrome', **executable_path, headless=False)\n",
    "\n",
    "\n",
    "url = 'https://twitter.com/marswxreport?lang=en'\n",
    "browser.visit(url)\n",
    "\n",
    "time.sleep(5)\n",
    "\n",
    "#Takes us to a Twitter page where it needs js enabled to get the tweet content"
   ]
  },
  {
   "cell_type": "code",
   "execution_count": 55,
   "metadata": {},
   "outputs": [],
   "source": [
    "html = browser.html\n",
    "soup = bs(html, 'html.parser')\n"
   ]
  },
  {
   "cell_type": "code",
   "execution_count": 56,
   "metadata": {},
   "outputs": [
    {
     "output_type": "stream",
     "name": "stdout",
     "text": "InSight sol 499 (2020-04-22) low -94.4ºC (-137.9ºF) high -3.6ºC (25.5ºF)\nwinds from the SW at 5.1 m/s (11.3 mph) gusting to 16.2 m/s (36.1 mph)\npressure at 6.70 hPa\n"
    }
   ],
   "source": [
    "mars_weather = soup.find_all('span', class_=\"css-901oao css-16my406 r-1qd0xha r-ad9z0x r-bcqeeo r-qvutc0\")[27].text\n",
    "\n",
    "print(mars_weather)"
   ]
  },
  {
   "cell_type": "markdown",
   "metadata": {},
   "source": [
    "## Mars Facts"
   ]
  },
  {
   "cell_type": "code",
   "execution_count": 45,
   "metadata": {},
   "outputs": [
    {
     "output_type": "execute_result",
     "data": {
      "text/plain": "[                      0                              1\n 0  Equatorial Diameter:                       6,792 km\n 1       Polar Diameter:                       6,752 km\n 2                 Mass:  6.39 × 10^23 kg (0.11 Earths)\n 3                Moons:            2 (Phobos & Deimos)\n 4       Orbit Distance:       227,943,824 km (1.38 AU)\n 5         Orbit Period:           687 days (1.9 years)\n 6  Surface Temperature:                   -87 to -5 °C\n 7         First Record:              2nd millennium BC\n 8          Recorded By:           Egyptian astronomers,\n                       0                              1\n 0             Diameter:                       3,475 km\n 1                 Mass:  7.35 × 10^22 kg (0.01 Earths)\n 2               Orbits:                      The Earth\n 3       Orbit Distance:                     384,400 km\n 4         Orbit Period:                      27.3 days\n 5  Surface Temperature:                 -233 to 123 °C,\n   Mars - Earth Comparison             Mars            Earth\n 0               Diameter:         6,779 km        12,742 km\n 1                   Mass:  6.39 × 10^23 kg  5.97 × 10^24 kg\n 2                  Moons:                2                1\n 3      Distance from Sun:   227,943,824 km   149,598,262 km\n 4         Length of Year:   687 Earth days      365.24 days\n 5            Temperature:    -153 to 20 °C      -88 to 58°C,\n                       0                              1\n 0  Equatorial Diameter:                       6,792 km\n 1       Polar Diameter:                       6,752 km\n 2                 Mass:  6.39 × 10^23 kg (0.11 Earths)\n 3                Moons:            2 (Phobos & Deimos)\n 4       Orbit Distance:       227,943,824 km (1.38 AU)\n 5         Orbit Period:           687 days (1.9 years)\n 6  Surface Temperature:                   -87 to -5 °C\n 7         First Record:              2nd millennium BC\n 8          Recorded By:           Egyptian astronomers]"
     },
     "metadata": {},
     "execution_count": 45
    }
   ],
   "source": [
    "#Visit the Mars Facts webpage here (https://space-facts.com/mars/) and use Pandas to scrape the table containing facts about the planet including Diameter, Mass, etc.\n",
    "#Use Pandas to convert the data to a HTML table string.\n",
    "\n",
    "#Use pandas to read_html() of the URL\n",
    "#Look at created dataframe to get the planet facts table from the index values\n",
    "#Make a dataframe of just the planet facts index \n",
    "\n",
    "url = 'https://space-facts.com/mars/'\n",
    "tables = pd.read_html(url)\n",
    "\n",
    "tables\n",
    "#First table appears to be info for Mars"
   ]
  },
  {
   "cell_type": "code",
   "execution_count": 46,
   "metadata": {},
   "outputs": [],
   "source": [
    "mars_df = tables[0]\n",
    "\n",
    "mars_df.columns = ['','Value']\n",
    "mars_df.to_html('mars_table.html', index=False)"
   ]
  },
  {
   "cell_type": "markdown",
   "metadata": {},
   "source": [
    "## Mars Hemispheres"
   ]
  },
  {
   "cell_type": "code",
   "execution_count": 37,
   "metadata": {},
   "outputs": [
    {
     "output_type": "stream",
     "name": "stdout",
     "text": "[{'img_url': 'https://astrogeology.usgs.gov/cache/images/cfa62af2557222a02478f1fcd781d445_cerberus_enhanced.tif_full.jpg', 'title': 'Cerberus Hemisphere'}, {'img_url': 'https://astrogeology.usgs.gov/cache/images/7cf2da4bf549ed01c17f206327be4db7_valles_marineris_enhanced.tif_full.jpg', 'title': 'Valles Marineris Hemisphere'}, {'img_url': 'https://astrogeology.usgs.gov/cache/images/ae209b4e408bb6c3e67b6af38168cf28_syrtis_major_enhanced.tif_full.jpg', 'title': 'Syrtis Major Hemisphere'}, {'img_url': 'https://astrogeology.usgs.gov/cache/images/7cf2da4bf549ed01c17f206327be4db7_valles_marineris_enhanced.tif_full.jpg', 'title': 'Valles Marineris Hemisphere'}]\n"
    }
   ],
   "source": [
    "#Visit the USGS Astrogeology site here (https://astrogeology.usgs.gov/search/results?q=hemisphere+enhanced&k1=target&v1=Mars) to obtain high resolution images for each of Mar's hemispheres.\n",
    "#You will need to click each of the links to the hemispheres in order to find the image url to the full resolution image.\n",
    "#Save both the image url string for the full resolution hemisphere image, and the Hemisphere title containing the hemisphere name. Use a Python dictionary to store the data using the keys img_url and title.\n",
    "#Append the dictionary with the image url string and the hemisphere title to a list. This list will contain one dictionary for each hemisphere.\n",
    "\n",
    "#Use splinter to browse(url)\n",
    "#Parse HTML to get the destinations to click the image links\n",
    "#LOOK AT HTML FOR THE TAGS\n",
    "#Make an empty list\n",
    "#Use for loop to run through the images\n",
    "#Click on the images to get the image URL\n",
    "#Parse HTML to get image title\n",
    "#Make dictionary of title and image URL\n",
    "#Append dictionary to list\n",
    "#End For\n",
    "\n",
    "url = 'https://astrogeology.usgs.gov/search/results?q=hemisphere+enhanced&k1=target&v1=Mars'\n",
    "browser.visit(url)\n",
    "hemi_list = []\n",
    "html = browser.html\n",
    "soup = bs(html,'html.parser')\n",
    "\n",
    "hemi_links = soup.find_all('div', class_='item')\n",
    "\n",
    "for x in hemi_links:\n",
    "    \n",
    "    browser.click_link_by_partial_text('Enhanced')\n",
    "    html = browser.html\n",
    "    soup = bs(html,'html.parser')\n",
    "\n",
    "    image_url = soup.find('img', class_='wide-image')['src']\n",
    "    image_title = soup.find('h2',class_='title').text\n",
    "    image_title = image_title.replace('Enhanced','')\n",
    "    image_title = image_title.rstrip(' ')\n",
    "\n",
    "    hemi_data = {\n",
    "        'img_url' : 'https://astrogeology.usgs.gov'+image_url,\n",
    "        'title': image_title\n",
    "    }\n",
    "    \n",
    "    hemi_list.append(hemi_data)\n",
    "\n",
    "print(hemi_list)"
   ]
  },
  {
   "cell_type": "code",
   "execution_count": null,
   "metadata": {},
   "outputs": [],
   "source": []
  }
 ],
 "metadata": {
  "language_info": {
   "name": "python",
   "codemirror_mode": {
    "name": "ipython",
    "version": 3
   },
   "version": "3.7.4-final"
  },
  "orig_nbformat": 2,
  "file_extension": ".py",
  "mimetype": "text/x-python",
  "name": "python",
  "npconvert_exporter": "python",
  "pygments_lexer": "ipython3",
  "version": 3,
  "kernelspec": {
   "name": "python37464bitpythondatacondaaf71fc3f5dd34866a438487bc0d8ac87",
   "display_name": "Python 3.7.4 64-bit ('PythonData': conda)"
  }
 },
 "nbformat": 4,
 "nbformat_minor": 2
}