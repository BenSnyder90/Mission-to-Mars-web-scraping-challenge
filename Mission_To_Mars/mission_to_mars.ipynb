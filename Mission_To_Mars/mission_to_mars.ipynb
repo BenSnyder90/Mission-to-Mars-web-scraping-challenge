{
 "cells": [
  {
   "cell_type": "markdown",
   "metadata": {},
   "source": [
    "# Scraping the Data"
   ]
  },
  {
   "cell_type": "code",
   "execution_count": 2,
   "metadata": {},
   "outputs": [],
   "source": [
    "#Dependencies\n",
    "\n",
    "from splinter import Browser\n",
    "from bs4 import BeautifulSoup as bs\n",
    "import pandas as pd\n",
    "import requests\n",
    "import time"
   ]
  },
  {
   "cell_type": "markdown",
   "metadata": {},
   "source": [
    "## NASA Mars News\n",
    "\n",
    "Scrape the NASA Mars News Site (https://mars.nasa.gov/news/) and collect the latest News Title and Paragraph Text. Assign the text to variables that you can reference later."
   ]
  },
  {
   "cell_type": "code",
   "execution_count": 39,
   "metadata": {},
   "outputs": [],
   "source": [
    "\n",
    "\n",
    "\n",
    "#find() function to store News Title and Paragraph Text <p?> in variables\n",
    "\n",
    "#Title <div class=\"content_title\">\n",
    "#Paragraph Text <div class = \"article_teaser_body\">\n",
    "\n",
    "#Initialize Chromedriver and Splinter browser\n",
    "executable_path = {'executable_path': 'chromedriver.exe'}\n",
    "browser = Browser('chrome', **executable_path, headless=False)\n",
    "\n",
    "\n",
    "url = \"https://mars.nasa.gov/news\"\n",
    "browser.visit(url)\n",
    "\n",
    "#Give the browser time to load before parsing\n",
    "time.sleep(3)\n",
    "\n",
    "#Parse the html of the site\n",
    "#LOOK AT HTML TO FIND THE RIGHT TAGS\n",
    "html = browser.html\n",
    "soup = bs(html, 'html.parser')\n",
    "#Print the HTML\n",
    "soup"
   ]
  },
  {
   "cell_type": "code",
   "execution_count": 43,
   "metadata": {},
   "outputs": [
    {
     "output_type": "stream",
     "name": "stdout",
     "text": "How NASA's Perseverance Mars Team Adjusted to Work in the Time of Coronavirus \nLike much of the rest of the world, the Mars rover team is pushing forward with its mission-critical work while putting the health and safety of their colleagues and community first.\n"
    }
   ],
   "source": [
    "#Use find_all() function to store the different entries of the class in the list.\n",
    "#Store the title and paragraph in variables\n",
    "title = soup.find_all('div', class_='content_title')[1].text\n",
    "paragraph = soup.find_all('div', class_=\"article_teaser_body\")[0].text\n",
    "\n",
    "#Print to verify\n",
    "print(title)\n",
    "print(paragraph)"
   ]
  },
  {
   "cell_type": "markdown",
   "metadata": {},
   "source": [
    "## JPL Mars Space Images\n",
    "\n",
    "Visit the url for JPL Featured Space Image here (https://www.jpl.nasa.gov/spaceimages/?search=&category=Mars).\n",
    "\n",
    "Use splinter to navigate the site and find the image url for the current Featured Mars Image and assign the url string to a variable called featured_image_url.\n",
    "\n",
    "Make sure to find the image url to the full size .jpg image.\n",
    "\n",
    "Make sure to save a complete url string for this image."
   ]
  },
  {
   "cell_type": "code",
   "execution_count": 77,
   "metadata": {},
   "outputs": [
    {
     "output_type": "execute_result",
     "data": {
      "text/plain": "39-.014-.583a9.172 9.172 0 0 0 2.252-2.336\" fill-rule=\"evenodd\"></path></g></svg></span><span class=\"addthis_follow_label\">Twitter</span></a>\n<a addthis:userid=\"JPLnews\" class=\"addthis_button_youtube_follow icon at300b\" href=\"http://www.youtube.com/user/JPLnews?sub_confirmation=1\" target=\"_blank\" title=\"Follow on YouTube\"><span class=\"at-icon-wrapper\" style=\"background-color: rgb(205, 32, 31); line-height: 32px; height: 32px; width: 32px;\"><svg alt=\"YouTube\" aria-labelledby=\"at-svg-youtube-7\" class=\"at-icon at-icon-youtube\" role=\"img\" style=\"width: 32px; height: 32px;\" title=\"YouTube\" version=\"1.1\" viewbox=\"0 0 32 32\" xmlns=\"http://www.w3.org/2000/svg\" xmlns:xlink=\"http://www.w3.org/1999/xlink\"><title id=\"at-svg-youtube-7\">YouTube</title><g><path d=\"M13.73 18.974V12.57l5.945 3.212-5.944 3.192zm12.18-9.778c-.837-.908-1.775-.912-2.205-.965C20.625 8 16.007 8 16.007 8c-.01 0-4.628 0-7.708.23-.43.054-1.368.058-2.205.966-.66.692-.875 2.263-.875 2.263S5 13.303 5 15.15v1.728c0 1.845.22 3.69.22 3.69s.215 1.57.875 2.262c.837.908 1.936.88 2.426.975 1.76.175 7.482.23 7.482.15 0 .08 4.624.072 7.703-.16.43-.052 1.368-.057 2.205-.965.66-.69.875-2.262.875-2.262s.22-1.845.22-3.69v-1.73c0-1.844-.22-3.69-.22-3.69s-.215-1.57-.875-2.262z\" fill-rule=\"evenodd\"></path></g></svg></span><span class=\"addthis_follow_label\">YouTube</span></a>\n<a addthis:userid=\"nasajpl\" class=\"addthis_button_instagram_follow icon at300b\" href=\"http://instagram.com/nasajpl\" target=\"_blank\" title=\"Follow on Instagram\"><span class=\"at-icon-wrapper\" style=\"background-color: rgb(224, 53, 102); line-height: 32px; height: 32px; width: 32px;\"><svg alt=\"Instagram\" aria-labelledby=\"at-svg-instagram-8\" class=\"at-icon at-icon-instagram\" role=\"img\" style=\"width: 32px; height: 32px;\" title=\"Instagram\" version=\"1.1\" viewbox=\"0 0 32 32\" xmlns=\"http://www.w3.org/2000/svg\" xmlns:xlink=\"http://www.w3.org/1999/xlink\"><title id=\"at-svg-instagram-8\">Instagram</title><g><path d=\"M16 5c-2.987 0-3.362.013-4.535.066-1.17.054-1.97.24-2.67.512a5.392 5.392 0 0 0-1.95 1.268 5.392 5.392 0 0 0-1.267 1.95c-.272.698-.458 1.498-.512 2.67C5.013 12.637 5 13.012 5 16s.013 3.362.066 4.535c.054 1.17.24 1.97.512 2.67.28.724.657 1.337 1.268 1.95a5.392 5.392 0 0 0 1.95 1.268c.698.27 1.498.457 2.67.51 1.172.054 1.547.067 4.534.067s3.362-.013 4.535-.066c1.17-.054 1.97-.24 2.67-.51a5.392 5.392 0 0 0 1.95-1.27 5.392 5.392 0 0 0 1.268-1.95c.27-.698.457-1.498.51-2.67.054-1.172.067-1.547.067-4.534s-.013-3.362-.066-4.535c-.054-1.17-.24-1.97-.51-2.67a5.392 5.392 0 0 0-1.27-1.95 5.392 5.392 0 0 0-1.95-1.267c-.698-.272-1.498-.458-2.67-.512C19.363 5.013 18.988 5 16 5zm0 1.982c2.937 0 3.285.01 4.445.064 1.072.05 1.655.228 2.042.38.514.198.88.437 1.265.822.385.385.624.75.823 1.265.15.387.33.97.38 2.042.052 1.16.063 1.508.063 4.445 0 2.937-.01 3.285-.064 4.445-.05 1.072-.228 1.655-.38 2.042-.198.514-.437.88-.822 1.265-.385.385-.75.624-1.265.823-.387.15-.97.33-2.042.38-1.16.052-1.508.063-4.445.063-2.937 0-3.285-.01-4.445-.064-1.072-.05-1.655-.228-2.042-.38-.514-.198-.88-.437-1.265-.822a3.408 3.408 0 0 1-.823-1.265c-.15-.387-.33-.97-.38-2.042-.052-1.16-.063-1.508-.063-4.445 0-2.937.01-3.285.064-4.445.05-1.072.228-1.655.38-2.042.198-.514.437-.88.822-1.265.385-.385.75-.624 1.265-.823.387-.15.97-.33 2.042-.38 1.16-.052 1.508-.063 4.445-.063zm0 12.685a3.667 3.667 0 1 1 0-7.334 3.667 3.667 0 0 1 0 7.334zm0-9.316a5.65 5.65 0 1 0 0 11.3 5.65 5.65 0 0 0 0-11.3zm7.192-.222a1.32 1.32 0 1 1-2.64 0 1.32 1.32 0 0 1 2.64 0\" fill-rule=\"evenodd\"></path></g></svg></span><span class=\"addthis_follow_label\">Instagram</span></a>\n<a class=\"icon all_icon\" href=\"/social\">\n<span>All</span>\n</a>\n<div class=\"atclear\"></div></div>\n<script>\n                    addthis_loader.init(\"//s7.addthis.com/js/300/addthis_widget.js#pubid=ra-5429eeee4e460927\", {follow: true})\n                  </script>\n</div>\n</div>\n</div>\n<div class=\"gradient_line\"></div>\n</section>\n<section class=\"sitemap\">\n<div class=\"grid_layout\">\n<div class=\"sitemap_directory\">\n<div class=\"sitemap_block\">\n<div class=\"footer_sitemap_item\">\n<h3 class=\"sitemap_title\">\n                      about JPL\n                    </h3>\n<ul class=\"subnav\">\n<li>\n<a href=\"/about/\">About JPL</a>\n</li>\n<li>\n<a href=\"https://www.jpl.nasa.gov/jpl2025/vision/\">JPL Vision</a>\n</li>\n<li>\n<a href=\"/about/exec.php\">Executive Council</a>\n</li>\n<li>\n<a href=\"/about/history.php\">History</a>\n</li>\n<li>\n<a href=\"/about/reports.php\">Annual Reports</a>\n</li>\n<li>\n<a href=\"/contact_JPL.php\">Contact Us</a>\n</li>\n<li>\n<a href=\"/opportunities/\">Opportunities</a>\n</li>\n<li>\n<a href=\"https://thejplstore.com\" target=\"_blank\">JPL Online Store</a>\n</li>\n<li>\n<a href=\"/acquisition/\">Doing Business with JPL</a>\n</li>\n</ul>\n</div>\n<div class=\"footer_sitemap_item\">\n<h3 class=\"sitemap_title\">\n                      missions\n                    </h3>\n<ul class=\"subnav\">\n<li>\n<a href=\"/missions/?type=current\">Current</a>\n</li>\n<li>\n<a href=\"/missions/?type=past\">Past</a>\n</li>\n<li>\n<a href=\"/missions/?type=future\">Future</a>\n</li>\n<li>\n<a href=\"/missions/?type=proposed\">Proposed</a>\n</li>\n<li>\n<a href=\"/missions\">All</a>\n</li>\n</ul>\n</div>\n</div>\n<div class=\"sitemap_block\">\n<div class=\"footer_sitemap_item\">\n<h3 class=\"sitemap_title\">\n                      education\n                    </h3>\n<ul class=\"subnav\">\n<li>\n<a href=\"/edu/intern/\">Intern</a>\n</li>\n<li>\n<a href=\"/edu/learn/\">Learn</a>\n</li>\n<li>\n<a href=\"/edu/teach/\">Teach</a>\n</li>\n<li>\n<a href=\"/edu/news/\">News</a>\n</li>\n<li>\n<a href=\"/edu/events/\">Events</a>\n</li>\n</ul>\n</div>\n<div class=\"footer_sitemap_item\">\n<h3 class=\"sitemap_title\">\n                      news\n                    </h3>\n<ul class=\"subnav\">\n<li>\n<a href=\"/news\">Latest News</a>\n</li>\n<li>\n<a href=\"/news/presskits.php\">Press Kits</a>\n</li>\n<li>\n<a href=\"/news/factsheets.php\">Fact Sheets</a>\n</li>\n<li>\n<a href=\"/news/mediainformation.php\">Media Information</a>\n</li>\n<li>\n<a href=\"/universe/\">Universe Newspaper</a>\n</li>\n</ul>\n</div>\n<div class=\"footer_sitemap_item\">\n<h3 class=\"sitemap_title\">\n                      public events</h3>\n<ul class=\"subnav\">\n<li>\n<a href=\"/events/\">Overview</a>\n</li>\n<li>\n<a href=\"/events/tours/views/\">Tours</a>\n</li>\n<li>\n<a href=\"/events/lectures.php\">Lecture Series</a>\n</li>\n<li>\n<a href=\"/events/speakers-bureau.php\">Speakers Bureau</a>\n</li>\n<li>\n<a href=\"/events/team-competitions.php\">Team Competitions</a>\n</li>\n<li>\n<a href=\"/events/special-events.php\">Special Events</a>\n</li>\n</ul>\n</div>\n</div>\n<div class=\"sitemap_block\">\n<div class=\"footer_sitemap_item\">\n<h3 class=\"sitemap_title\">\n                      Our Sites\n                    </h3>\n<ul class=\"subnav\">\n<li>\n<a href=\"/asteroidwatch/\">Asteroid Watch</a>\n</li>\n<li>\n<a href=\"https://solarsystem.nasa.gov/basics/\" target=\"_blank\">Basics of Spaceflight\n                      </a></li><a href=\"https://solarsystem.nasa.gov/basics/\" target=\"_blank\">\n</a><li><a href=\"https://solarsystem.nasa.gov/basics/\" target=\"_blank\">\n</a><a href=\"https://saturn.jpl.nasa.gov/index.cfm\">Cassini - Mission to Saturn</a>\n</li>\n<li>\n<a href=\"https://climatekids.nasa.gov/index.cfm\">Climate Kids</a>\n</li>\n<li>\n<a href=\"https://climate.nasa.gov\">Earth / Global Climate Change</a>\n</li>\n<li>\n<a href=\"https://planetquest.jpl.nasa.gov\">Exoplanet Exploration</a>\n</li>\n<li>\n<a href=\"/missions/juno/\">Juno - Mission to Jupiter</a>\n</li>\n<li>\n<a href=\"https://mars.nasa.gov/\">Mars Exploration</a>\n</li>\n<li>\n<a href=\"https://scienceandtechnology.jpl.nasa.gov/\">Science and Technology</a>\n</li>\n<li>\n<a href=\"https://solarsystem.nasa.gov/\">Solar System Exploration</a>\n</li>\n<li>\n<a href=\"https://spaceplace.nasa.gov/\">Space Place</a>\n</li>\n<li>\n<a href=\"https://eyes.nasa.gov/\">NASA's Eyes</a>\n</li>\n<li>\n<a href=\"https://www.spitzer.caltech.edu/\">Spitzer Space Telescope</a>\n</li>\n<li>\n<a href=\"https://voyager.jpl.nasa.gov/\">Voyager Interstellar Mission</a>\n</li>\n</ul>\n</div>\n<div class=\"footer_sitemap_item\">\n<h3 class=\"sitemap_title\">\n                      galleries\n                    </h3>\n<ul class=\"subnav\">\n<li>\n<a href=\"/spaceimages/\">JPL Space Images</a>\n</li>\n<li>\n<a href=\"/video/\">Videos</a>\n</li>\n<li>\n<a href=\"/infographics/\">Infographics</a>\n</li>\n<li>\n<a href=\"https://photojournal.jpl.nasa.gov/\">Photojournal</a>\n</li>\n<li>\n<a href=\"http://www.nasaimages.org/\">NASA Images</a>\n</li>\n<li>\n<a href=\"/apps/\">Mobile Apps</a>\n</li>\n</ul>\n</div>\n</div>\n<div class=\"sitemap_block\">\n<div class=\"footer_sitemap_item\">\n<h3 class=\"sitemap_title\">\n                      Follow JPL\n                    </h3>\n<ul class=\"subnav\">\n<li>\n<a href=\"/signup/\">Newsletter</a>\n</li>\n<li>\n<a href=\"https://www.facebook.com/NASAJPL\">Facebook</a>\n</li>\n<li>\n<a href=\"http://twitter.com/NASAJPL\">Twitter</a>\n</li>\n<li>\n<a href=\"http://www.youtube.com/user/JPLnews\">YouTube</a>\n</li>\n<li>\n<a href=\"http://www.flickr.com/photos/nasa-jpl\">Flickr</a>\n</li>\n<li>\n<a href=\"http://instagram.com/nasajpl\">Instagram</a>\n</li>\n<li>\n<a href=\"https://www.linkedin.com/company/2004/\">LinkedIn</a>\n</li>\n<li>\n<a href=\"http://itunes.apple.com/podcast/hd-nasas-jet-propulsion-laboratory/id262254981\">iTunes</a>\n</li>\n<li>\n<a href=\"http://www.ustream.tv/nasajpl\">UStream</a>\n</li>\n<li>\n<a href=\"/rss/\">RSS</a>\n</li>\n<li>\n<a href=\"http://blogs.jpl.nasa.gov\">Blog</a>\n</li>\n<li>\n<a href=\"/onthego/\">Mobile</a>\n</li>\n<li>\n<a href=\"/social/\">All Social Media</a>\n</li>\n</ul>\n</div>\n<div class=\"footer_sitemap_item\">\n<h3 class=\"sitemap_title\">\n                      NASA\n                    </h3>\n<ul class=\"subnav\">\n<li>\n<a href=\"http://jplwater.nasa.gov\">NASA Water Cleanup</a>\n</li>\n<li>\n<a href=\"http://www.hq.nasa.gov/office/pao/FOIA/agency/\">FOIA</a>\n</li>\n</ul>\n</div>\n</div>\n</div>\n</div>\n<div class=\"gradient_line\"></div>\n</section>\n<section class=\"lower_footer\">\n<div class=\"nav_container\">\n<nav>\n<ul>\n<li>\n<a href=\"http://www.nasa.gov/\" target=\"_blank\">NASA</a>\n</li>\n                  |\n                  <li>\n<a href=\"http://www.caltech.edu/\" target=\"_blank\">Caltech</a>\n</li>\n                  |\n                  <li>\n<a href=\"/privacy\">Privacy</a>\n</li>\n                  |\n                  <li>\n<a href=\"/imagepolicy\">Image Policy</a>\n</li>\n                  |\n                  <li>\n<a href=\"/faq.php\">FAQ</a>\n</li>\n                  |\n                  <li>\n<a href=\"/contact_JPL.php\">Feedback</a>\n</li>\n</ul>\n</nav>\n</div>\n<div class=\"credits\">\n<span class=\"credits_manager\">Site Manager: Veronica McGregor</span>\n<span class=\"credits_webmaster\">Site Editors: Tony Greicius, Randal Jackson</span>\n</div>\n</section> </footer>\n</div>\n</div>\n<script src=\"/assets/javascripts/vendor/prefixfree.js\" type=\"text/javascript\"></script><script src=\"/assets/javascripts/vendor/prefixfree.jquery.js\" type=\"text/javascript\"></script><script id=\"_fed_an_ua_tag\" src=\"https://dap.digitalgov.gov/Universal-Federated-Analytics-Min.js?agency=NASA&amp;pua=UA-45212297-1&amp;subagency=JPL&amp;dclink=true&amp;sp=search,s,q&amp;sdor=false&amp;exts=tif,tiff\" type=\"text/javascript\"></script>\n<script type=\"text/javascript\">\nsetTimeout(function(){var a=document.createElement(\"script\");\nvar b=document.getElementsByTagName(\"script\")[0];\na.src=document.location.protocol+\"//script.crazyegg.com/pages/scripts/0025/5267.js?\"+Math.floor(new Date().getTime()/3600000);\na.async=true;a.type=\"text/javascript\";b.parentNode.insertBefore(a,b)}, 1);\n</script>\n<!-- END FOOTER: \"DEFAULT\" -->\n<div id=\"_atssh\" style=\"visibility: hidden; height: 1px; width: 1px; position: absolute; top: -9999px; z-index: 100000;\"><iframe id=\"_atssh428\" src=\"https://s7.addthis.com/static/sh.f48a1a04fe8dbf021b4cda1d.html#rand=0.3687217286979043&amp;iit=1587865770950&amp;tmr=load%3D1587865770395%26core%3D1587865770430%26main%3D1587865770947%26ifr%3D1587865770952&amp;cb=0&amp;cdn=0&amp;md=0&amp;kw=&amp;ab=-&amp;dh=www.jpl.nasa.gov&amp;dr=&amp;du=https%3A%2F%2Fwww.jpl.nasa.gov%2Fspaceimages%2F%3Fsearch%3D%26category%3DMars&amp;href=https%3A%2F%2Fwww.jpl.nasa.gov%2Fspaceimages%2F&amp;dt=Space%20Images&amp;dbg=0&amp;cap=tc%3D0%26ab%3D0&amp;inst=1&amp;jsl=1&amp;prod=undefined&amp;lng=en&amp;ogt=&amp;pc=men&amp;pub=&amp;ssl=1&amp;sid=5ea4e8aaded5721a&amp;srf=0.01&amp;ver=300&amp;xck=1&amp;xtr=0&amp;og=&amp;csi=undefined&amp;rev=v8.28.3-wp&amp;ct=1&amp;xld=1&amp;xd=1\" style=\"height: 1px; width: 1px; position: absolute; top: 0px; z-index: 100000; border: 0px; left: 0px;\" title=\"AddThis utility frame\"></iframe></div><style id=\"service-icons-0\"></style><div id=\"fancybox-lock\" style=\"overflow: auto;\"><div class=\"fancybox-wrap fancybox-dark fancybox-type-image fancybox-desktop fancybox-dark-desktop fancybox-open\" style=\"margin: 30px 55px 98px; padding-top: 10px; padding-right: 10px; padding-left: 10px; width: 600px; height: 705px; top: 21px; left: 100px; opacity: 1; overflow: visible;\"><div class=\"fancybox-inner fancybox-skin fancybox-dark-skin fancybox-dark-skin-open\" style=\"border-width: 10px; margin-top: -10px; margin-left: -10px; overflow: visible; width: 600px; height: 600px;\"><img class=\"fancybox-image\" src=\"/spaceimages/images/mediumsize/PIA16220_ip.jpg\" style=\"display: inline;\"/><a class=\"fancybox-nav fancybox-prev\" href=\"javascript:;\" title=\"Previous\"><span></span></a><a class=\"fancybox-nav fancybox-next\" href=\"javascript:;\" title=\"Next\"><span></span></a><a class=\"fancybox-expand\" href=\"javascript:;\" style=\"display: none;\" title=\"Expand image\"></a></div><div class=\"fancybox-title fancybox-title-outside-wrap\" style=\"visibility: visible; opacity: 1; left: 0px;\">Curiosity's Rock-Contact Science Begins<div addthis:description=\"This image shows the robotic arm of NASA\" addthis:title=\"Curiosity\" addthis:url=\"/spaceimages/details.php?id=PIA16220\" an=\"\" apxs=\"\" arm.=\"\" assess=\"\" begins'=\"\" by=\"\" chemical=\"\" class=\"addthis_toolbox addthis_default_style\" curiosity=\"\" elements=\"\" first=\"\" in=\"\" instrument=\"\" mars=\"\" on=\"\" onto=\"\" placed=\"\" present=\"\" rock=\"\" rock-contact=\"\" rock.'=\"\" rover=\"\" s=\"\" science=\"\" the=\"\" to=\"\" touched=\"\" were=\"\" what=\"\" with=\"\"> <div class=\"buttons\"> <a class=\"addthis_button_compact\" href=\"#\"> <img src=\"/assets/images/content/tmp/images/share.png\"/> </a> <a class=\"button\" href=\"/spaceimages/details.php?id=PIA16220 \" target=\"_top\">more info     </a> </div><div class=\"atclear\"></div></div></div><a class=\"fancybox-close\" href=\"javascript:;\" title=\"Close\"></a><div class=\"fancybox-spacer\" style=\"height: 96px;\"></div></div></div><div class=\"fancybox-overlay fancybox-overlay-fixed fancybox-dark-overlay\"></div><div class=\"bottom\" id=\"fancybox-thumbs\" style=\"width: 929px;\"><a class=\"fancybox-thumb-prev\" href=\"javascript:;\" style=\"display: none;\"><span></span></a><div class=\"outer\"><div class=\"inner\"><ul style=\"width: 3003px; height: 58px; margin-left: 0px;\"><li class=\"fancybox-thumb-active\"><a class=\"ready\" data-index=\"0\" href=\"javascript:jQuery.fancybox.jumpto(0);\" style=\"width: 79px; height: 54px;\"><img src=\"/spaceimages/images/mediumsize/PIA16220_ip.jpg\" style=\"width: 75px; height: 75px; margin-top: -8px; margin-left: 0px;\"/></a></li><li><a class=\"ready\" data-index=\"1\" href=\"javascript:jQuery.fancybox.jumpto(1);\" style=\"width: 79px; height: 54px;\"><img src=\"/spaceimages/images/wallpaper/PIA23844-640x350.jpg\" style=\"width: 91px; height: 50px; margin-top: 0px; margin-left: -9px;\"/></a></li><li><a class=\"ready\" data-index=\"2\" href=\"javascript:jQuery.fancybox.jumpto(2);\" style=\"width: 79px; height: 54px;\"><img src=\"/spaceimages/images/wallpaper/PIA23843-640x350.jpg\" style=\"width: 91px; height: 50px; margin-top: 0px; margin-left: -9px;\"/></a></li><li><a class=\"ready\" data-index=\"3\" href=\"javascript:jQuery.fancybox.jumpto(3);\" style=\"width: 79px; height: 54px;\"><img src=\"/spaceimages/images/wallpaper/PIA23842-640x350.jpg\" style=\"width: 91px; height: 50px; margin-top: 0px; margin-left: -9px;\"/></a></li><li><a class=\"ready\" data-index=\"4\" href=\"javascript:jQuery.fancybox.jumpto(4);\" style=\"width: 79px; height: 54px;\"><img src=\"/spaceimages/images/wallpaper/PIA23841-640x350.jpg\" style=\"width: 91px; height: 50px; margin-top: 0px; margin-left: -9px;\"/></a></li><li><a class=\"ready\" data-index=\"5\" href=\"javascript:jQuery.fancybox.jumpto(5);\" style=\"width: 79px; height: 54px;\"><img src=\"/spaceimages/images/wallpaper/PIA23855-640x350.jpg\" style=\"width: 91px; height: 50px; margin-top: 0px; margin-left: -9px;\"/></a></li><li><a class=\"ready\" data-index=\"6\" href=\"javascript:jQuery.fancybox.jumpto(6);\" style=\"width: 79px; height: 54px;\"><img src=\"/spaceimages/images/wallpaper/PIA23854-640x350.jpg\" style=\"width: 91px; height: 50px; margin-top: 0px; margin-left: -9px;\"/></a></li><li><a class=\"ready\" data-index=\"7\" href=\"javascript:jQuery.fancybox.jumpto(7);\" style=\"width: 79px; height: 54px;\"><img src=\"/spaceimages/images/wallpaper/PIA23853-640x350.jpg\" style=\"width: 91px; height: 50px; margin-top: 0px; margin-left: -9px;\"/></a></li><li><a class=\"ready\" data-index=\"8\" href=\"javascript:jQuery.fancybox.jumpto(8);\" style=\"width: 79px; height: 54px;\"><img src=\"/spaceimages/images/wallpaper/PIA23852-640x350.jpg\" style=\"width: 91px; height: 50px; margin-top: 0px; margin-left: -9px;\"/></a></li><li><a class=\"ready\" data-index=\"9\" href=\"javascript:jQuery.fancybox.jumpto(9);\" style=\"width: 79px; height: 54px;\"><img src=\"/spaceimages/images/wallpaper/PIA23840-640x350.jpg\" style=\"width: 91px; height: 50px; margin-top: 0px; margin-left: -9px;\"/></a></li><li><a data-index=\"10\" href=\"javascript:jQuery.fancybox.jumpto(10);\" style=\"width: 79px; height: 54px;\"></a></li><li><a data-index=\"11\" href=\"javascript:jQuery.fancybox.jumpto(11);\" style=\"width: 79px; height: 54px;\"></a></li><li><a data-index=\"12\" href=\"javascript:jQuery.fancybox.jumpto(12);\" style=\"width: 79px; height: 54px;\"></a></li><li><a data-index=\"13\" href=\"javascript:jQuery.fancybox.jumpto(13);\" style=\"width: 79px; height: 54px;\"></a></li><li><a data-index=\"14\" href=\"javascript:jQuery.fancybox.jumpto(14);\" style=\"width: 79px; height: 54px;\"></a></li><li><a data-index=\"15\" href=\"javascript:jQuery.fancybox.jumpto(15);\" style=\"width: 79px; height: 54px;\"></a></li><li><a data-index=\"16\" href=\"javascript:jQuery.fancybox.jumpto(16);\" style=\"width: 79px; height: 54px;\"></a></li><li><a data-index=\"17\" href=\"javascript:jQuery.fancybox.jumpto(17);\" style=\"width: 79px; height: 54px;\"></a></li><li><a data-index=\"18\" href=\"javascript:jQuery.fancybox.jumpto(18);\" style=\"width: 79px; height: 54px;\"></a></li><li><a data-index=\"19\" href=\"javascript:jQuery.fancybox.jumpto(19);\" style=\"width: 79px; height: 54px;\"></a></li><li><a data-index=\"20\" href=\"javascript:jQuery.fancybox.jumpto(20);\" style=\"width: 79px; height: 54px;\"></a></li><li><a data-index=\"21\" href=\"javascript:jQuery.fancybox.jumpto(21);\" style=\"width: 79px; height: 54px;\"></a></li><li><a data-index=\"22\" href=\"javascript:jQuery.fancybox.jumpto(22);\" style=\"width: 79px; height: 54px;\"></a></li><li><a data-index=\"23\" href=\"javascript:jQuery.fancybox.jumpto(23);\" style=\"width: 79px; height: 54px;\"></a></li><li><a data-index=\"24\" href=\"javascript:jQuery.fancybox.jumpto(24);\" style=\"width: 79px; height: 54px;\"></a></li><li><a data-index=\"25\" href=\"javascript:jQuery.fancybox.jumpto(25);\" style=\"width: 79px; height: 54px;\"></a></li><li><a data-index=\"26\" href=\"javascript:jQuery.fancybox.jumpto(26);\" style=\"width: 79px; height: 54px;\"></a></li><li><a data-index=\"27\" href=\"javascript:jQuery.fancybox.jumpto(27);\" style=\"width: 79px; height: 54px;\"></a></li><li><a data-index=\"28\" href=\"javascript:jQuery.fancybox.jumpto(28);\" style=\"width: 79px; height: 54px;\"></a></li><li><a data-index=\"29\" href=\"javascript:jQuery.fancybox.jumpto(29);\" style=\"width: 79px; height: 54px;\"></a></li><li><a data-index=\"30\" href=\"javascript:jQuery.fancybox.jumpto(30);\" style=\"width: 79px; height: 54px;\"></a></li><li><a data-index=\"31\" href=\"javascript:jQuery.fancybox.jumpto(31);\" style=\"width: 79px; height: 54px;\"></a></li><li><a data-index=\"32\" href=\"javascript:jQuery.fancybox.jumpto(32);\" style=\"width: 79px; height: 54px;\"></a></li></ul></div></div><a class=\"fancybox-thumb-next\" href=\"javascript:;\" style=\"display: inline;\"><span></span></a></div></body></html>"
     },
     "metadata": {},
     "execution_count": 77
    }
   ],
   "source": [
    "#Initialize Chromedriver\n",
    "executable_path = {'executable_path': 'chromedriver.exe'}\n",
    "browser = Browser('chrome', **executable_path, headless=False)\n",
    "\n",
    "#Use splinter to browse(url)\n",
    "url = 'https://www.jpl.nasa.gov/spaceimages/?search=&category=Mars'\n",
    "browser.visit(url)\n",
    "#LOOK AT SITE TO GET TO THE CURRENT FEATURED MARS IMAGE TAGS\n",
    "\n",
    "#Click on link using partial text function to see full size function\n",
    "browser.click_link_by_partial_text('FULL')\n",
    "\n",
    "#Give the page time to load\n",
    "time.sleep(1)\n",
    "\n",
    "#Use BeautifulSoup to parse the page for the URL\n",
    "html = browser.html\n",
    "soup = bs(html, 'html.parser')\n",
    "soup"
   ]
  },
  {
   "cell_type": "code",
   "execution_count": 78,
   "metadata": {},
   "outputs": [
    {
     "output_type": "stream",
     "name": "stdout",
     "text": "https://www.jpl.nasa.gov/spaceimages/images/mediumsize/PIA16220_ip.jpg\n"
    }
   ],
   "source": [
    "#Use the find() function to store the partial URL\n",
    "featured_url = soup.find('img', class_='fancybox-image')['src']\n",
    "\n",
    "#Store the full URL\n",
    "featured_image_url = 'https://www.jpl.nasa.gov'+featured_url\n",
    "\n",
    "#Print to verify\n",
    "print(featured_image_url)"
   ]
  },
  {
   "cell_type": "markdown",
   "metadata": {},
   "source": [
    "## Mars Weather\n",
    "\n",
    "Visit the Mars Weather twitter account here (https://twitter.com/marswxreport?lang=en) and scrape the latest Mars weather tweet from the page. Save the tweet text for the weather report as a variable called mars_weather"
   ]
  },
  {
   "cell_type": "code",
   "execution_count": 54,
   "metadata": {},
   "outputs": [],
   "source": [
    "#LOOK AT HTML OF SITE when not logged into Twitter\n",
    "#Parse HTML of the URL and use the find() funtion to get the tag of the latest tweet\n",
    "\n",
    "#Initialize the Chromedriver\n",
    "executable_path = {'executable_path': 'chromedriver.exe'}\n",
    "browser = Browser('chrome', **executable_path, headless=False)\n",
    "\n",
    "#Use Splinter to visit URL\n",
    "url = 'https://twitter.com/marswxreport?lang=en'\n",
    "browser.visit(url)\n",
    "\n",
    "#Allow time for page to load to show proper HTML page\n",
    "time.sleep(5)\n",
    "\n",
    "#Parse the HTML\n",
    "html = browser.html\n",
    "soup = bs(html, 'html.parser')\n",
    "\n",
    "#Twitter uses this class for every line of text. The 28th position in this list contains the latest tweet.\n",
    "mars_weather = soup.find_all('span', class_=\"css-901oao css-16my406 r-1qd0xha r-ad9z0x r-bcqeeo r-qvutc0\")[27].text\n",
    "\n",
    "#Print to verify\n",
    "print(mars_weather)"
   ]
  },
  {
   "cell_type": "markdown",
   "metadata": {},
   "source": [
    "## Mars Facts\n",
    "\n",
    "Visit the Mars Facts webpage here (https://space-facts.com/mars/) and use Pandas to scrape the table containing facts about the planet including Diameter, Mass, etc.\n",
    "\n",
    "Use Pandas to convert the data to a HTML table string."
   ]
  },
  {
   "cell_type": "code",
   "execution_count": 45,
   "metadata": {},
   "outputs": [
    {
     "output_type": "execute_result",
     "data": {
      "text/plain": "[                      0                              1\n 0  Equatorial Diameter:                       6,792 km\n 1       Polar Diameter:                       6,752 km\n 2                 Mass:  6.39 × 10^23 kg (0.11 Earths)\n 3                Moons:            2 (Phobos & Deimos)\n 4       Orbit Distance:       227,943,824 km (1.38 AU)\n 5         Orbit Period:           687 days (1.9 years)\n 6  Surface Temperature:                   -87 to -5 °C\n 7         First Record:              2nd millennium BC\n 8          Recorded By:           Egyptian astronomers,\n   Mars - Earth Comparison             Mars            Earth\n 0               Diameter:         6,779 km        12,742 km\n 1                   Mass:  6.39 × 10^23 kg  5.97 × 10^24 kg\n 2                  Moons:                2                1\n 3      Distance from Sun:   227,943,824 km   149,598,262 km\n 4         Length of Year:   687 Earth days      365.24 days\n 5            Temperature:    -153 to 20 °C      -88 to 58°C,\n                       0                              1\n 0  Equatorial Diameter:                       6,792 km\n 1       Polar Diameter:                       6,752 km\n 2                 Mass:  6.39 × 10^23 kg (0.11 Earths)\n 3                Moons:            2 (Phobos & Deimos)\n 4       Orbit Distance:       227,943,824 km (1.38 AU)\n 5         Orbit Period:           687 days (1.9 years)\n 6  Surface Temperature:                   -87 to -5 °C\n 7         First Record:              2nd millennium BC\n 8          Recorded By:           Egyptian astronomers]"
     },
     "metadata": {},
     "execution_count": 45
    }
   ],
   "source": [
    "#Use pandas to read_html() of the URL\n",
    "#Look at created dataframe to get the planet facts table from the index values\n",
    "#Make a dataframe of just the planet facts index \n",
    "\n",
    "url = 'https://space-facts.com/mars/'\n",
    "tables = pd.read_html(url)\n",
    "\n",
    "tables\n",
    "#First table appears to be info for Mars"
   ]
  },
  {
   "cell_type": "code",
   "execution_count": 46,
   "metadata": {},
   "outputs": [
    {
     "output_type": "stream",
     "name": "stdout",
     "text": "Value\nDescription                                        \nEquatorial Diameter:                       6,792 km\nPolar Diameter:                            6,752 km\nMass:                 6.39 × 10^23 kg (0.11 Earths)\nMoons:                          2 (Phobos & Deimos)\nOrbit Distance:            227,943,824 km (1.38 AU)\nOrbit Period:                  687 days (1.9 years)\nSurface Temperature:                   -87 to -5 °C\nFirst Record:                     2nd millennium BC\nRecorded By:                   Egyptian astronomers\n"
    }
   ],
   "source": [
    "#Store the Facts data in a dataframe\n",
    "mars_df = tables[0]\n",
    "\n",
    "#Change the column names\n",
    "mars_df.columns = ['Description','Value']\n",
    "#Change the index value to the Description\n",
    "mars_df.set_index('Description',inplace=True)\n",
    "#Print to verify\n",
    "print(mars_df)\n",
    "\n",
    "#Prints the dataframe to its own HTML file\n",
    "mars_df.to_html('mars_table.html', index=False)"
   ]
  },
  {
   "cell_type": "markdown",
   "metadata": {},
   "source": [
    "## Mars Hemispheres\n",
    "\n",
    "Visit the USGS Astrogeology site here (https://astrogeology.usgs.gov/search/results?q=hemisphere+enhanced&k1=target&v1=Mars) to obtain high resolution images for each of Mars' hemispheres.\n",
    "\n",
    "You will need to click each of the links to the hemispheres in order to find the image url to the full resolution image.\n",
    "\n",
    "Save both the image url string for the full resolution hemisphere image, and the Hemisphere title containing the hemisphere name. Use a Python dictionary to store the data using the keys img_url and title.\n",
    "\n",
    "Append the dictionary with the image url string and the hemisphere title to a list. This list will contain one dictionary for each hemisphere."
   ]
  },
  {
   "cell_type": "code",
   "execution_count": 72,
   "metadata": {},
   "outputs": [
    {
     "output_type": "stream",
     "name": "stdout",
     "text": "<div class=\"item\"><a class=\"itemLink product-item\" href=\"/search/map/Mars/Viking/cerberus_enhanced\"><img alt=\"Cerberus Hemisphere Enhanced thumbnail\" class=\"thumb\" src=\"/cache/images/dfaf3849e74bf973b59eb50dab52b583_cerberus_enhanced.tif_thumb.png\"/></a><div class=\"description\"><a class=\"itemLink product-item\" href=\"/search/map/Mars/Viking/cerberus_enhanced\"><h3>Cerberus Hemisphere Enhanced</h3></a><span class=\"subtitle\" style=\"float:left\">image/tiff 21 MB</span><span class=\"pubDate\" style=\"float:right\"></span><br/><p>Mosaic of the Cerberus hemisphere of Mars projected into point perspective, a view similar to that which one would see from a spacecraft. This mosaic is composed of 104 Viking Orbiter images acquired…</p></div> <!-- end description --></div>\n<div class=\"item\"><a class=\"itemLink product-item\" href=\"/search/map/Mars/Viking/schiaparelli_enhanced\"><img alt=\"Schiaparelli Hemisphere Enhanced thumbnail\" class=\"thumb\" src=\"/cache/images/7677c0a006b83871b5a2f66985ab5857_schiaparelli_enhanced.tif_thumb.png\"/></a><div class=\"description\"><a class=\"itemLink product-item\" href=\"/search/map/Mars/Viking/schiaparelli_enhanced\"><h3>Schiaparelli Hemisphere Enhanced</h3></a><span class=\"subtitle\" style=\"float:left\">image/tiff 35 MB</span><span class=\"pubDate\" style=\"float:right\"></span><br/><p>Mosaic of the Schiaparelli hemisphere of Mars projected into point perspective, a view similar to that which one would see from a spacecraft. The images were acquired in 1980 during early northern…</p></div> <!-- end description --></div>\n<div class=\"item\"><a class=\"itemLink product-item\" href=\"/search/map/Mars/Viking/syrtis_major_enhanced\"><img alt=\"Syrtis Major Hemisphere Enhanced thumbnail\" class=\"thumb\" src=\"/cache/images/aae41197e40d6d4f3ea557f8cfe51d15_syrtis_major_enhanced.tif_thumb.png\"/></a><div class=\"description\"><a class=\"itemLink product-item\" href=\"/search/map/Mars/Viking/syrtis_major_enhanced\"><h3>Syrtis Major Hemisphere Enhanced</h3></a><span class=\"subtitle\" style=\"float:left\">image/tiff 25 MB</span><span class=\"pubDate\" style=\"float:right\"></span><br/><p>Mosaic of the Syrtis Major hemisphere of Mars projected into point perspective, a view similar to that which one would see from a spacecraft. This mosaic is composed of about 100 red and violet…</p></div> <!-- end description --></div>\n<div class=\"item\"><a class=\"itemLink product-item\" href=\"/search/map/Mars/Viking/valles_marineris_enhanced\"><img alt=\"Valles Marineris Hemisphere Enhanced thumbnail\" class=\"thumb\" src=\"/cache/images/04085d99ec3713883a9a57f42be9c725_valles_marineris_enhanced.tif_thumb.png\"/></a><div class=\"description\"><a class=\"itemLink product-item\" href=\"/search/map/Mars/Viking/valles_marineris_enhanced\"><h3>Valles Marineris Hemisphere Enhanced</h3></a><span class=\"subtitle\" style=\"float:left\">image/tiff 27 MB</span><span class=\"pubDate\" style=\"float:right\"></span><br/><p>Mosaic of the Valles Marineris hemisphere of Mars projected into point perspective, a view similar to that which one would see from a spacecraft. The distance is 2500 kilometers from the surface of…</p></div> <!-- end description --></div>\n"
    }
   ],
   "source": [
    "#Initialize path to chromedriver\n",
    "executable_path = {'executable_path': 'chromedriver.exe'}\n",
    "browser = Browser('chrome', **executable_path, headless=False)\n",
    "\n",
    "#Use splinter to browse URL\n",
    "url = 'https://astrogeology.usgs.gov/search/results?q=hemisphere+enhanced&k1=target&v1=Mars'\n",
    "browser.visit(url)\n",
    "\n",
    "#Make an empty list to store hemisphere data\n",
    "hemi_list = []\n",
    "\n",
    "#Parse HTML to get the destinations to click the image links\n",
    "#LOOK AT HTML FOR THE TAGS of the images\n",
    "html = browser.html\n",
    "soup = bs(html,'html.parser')\n",
    "\n",
    "#Get list of hemispheres using HTML parsing with class \"item\"\n",
    "hemi_links = soup.find_all('div', class_='item')\n",
    "\n",
    "#Make a for loop to run through the hemisphere list\n",
    "for x in hemi_links:\n",
    "    #Get the title text from the parser find() function and clean up the text showing      only the Hemisphere titles\n",
    "    image_title = x.find('h3').text\n",
    "    image_title = image_title.replace('Enhanced','')\n",
    "    image_title = image_title.rstrip(' ')\n",
    "\n",
    "    #Get the image URL using find() function\n",
    "    image_url = x.find('a')['href']\n",
    "    #Store the image URL for the browser\n",
    "    img_url = \"https://astrogeology.usgs.gov\"+ image_url\n",
    "\n",
    "    #Visit the image page to get the full size image URL\n",
    "    browser.visit(img_url)\n",
    "    #Parse the page and get the full size image URL\n",
    "    html = browser.html\n",
    "    soup = bs(html,'html.parser')\n",
    "    #Class 'wide-image' attribute 'src' has the image reference\n",
    "    #Store the URL in a variable\n",
    "    hemi_img = soup.find('img', class_=\"wide-image\")['src']\n",
    "    \n",
    "    #Store full URL and title in a dict\n",
    "    hemi_data = {\n",
    "        'img_url' : 'https://astrogeology.usgs.gov'+hemi_img,\n",
    "        'title': image_title\n",
    "    }\n",
    "    #Add the dict to the hemisphere list\n",
    "    hemi_list.append(hemi_data)\n",
    "\n",
    "#Print each entry list to verify\n",
    "for x in hemi_list:\n",
    "    print(x)"
   ]
  }
 ],
 "metadata": {
  "language_info": {
   "name": "python",
   "codemirror_mode": {
    "name": "ipython",
    "version": 3
   },
   "version": "3.7.4-final"
  },
  "orig_nbformat": 2,
  "file_extension": ".py",
  "mimetype": "text/x-python",
  "name": "python",
  "npconvert_exporter": "python",
  "pygments_lexer": "ipython3",
  "version": 3,
  "kernelspec": {
   "name": "python37464bitpythondatacondaaf71fc3f5dd34866a438487bc0d8ac87",
   "display_name": "Python 3.7.4 64-bit ('PythonData': conda)"
  }
 },
 "nbformat": 4,
 "nbformat_minor": 2
}