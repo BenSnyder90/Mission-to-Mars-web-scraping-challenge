{
 "cells": [
  {
   "cell_type": "markdown",
   "metadata": {},
   "source": [
    "# Scraping the Data"
   ]
  },
  {
   "cell_type": "code",
   "execution_count": 1,
   "metadata": {},
   "outputs": [],
   "source": [
    "#Dependencies\n",
    "\n",
    "from splinter import Browser\n",
    "from bs4 import BeautifulSoup as bs\n",
    "import pandas as pd\n",
    "import requests"
   ]
  },
  {
   "cell_type": "markdown",
   "metadata": {},
   "source": [
    "## NASA Mars News"
   ]
  },
  {
   "cell_type": "code",
   "execution_count": 2,
   "metadata": {},
   "outputs": [],
   "source": [
    "#Scrape the NASA Mars News Site (https://mars.nasa.gov/news/) and collect the latest News Title and Paragraph Text. Assign the text to variables that you can reference later.\n",
    "\n",
    "#Parse the html of the site\n",
    "#LOOK AT HTML TO FIND THE RIGHT TAGS\n",
    "#find() function to store News Title and Paragraph Text <p?> in variables\n",
    "\n",
    "#Title <div class=\"content_title\">\n",
    "#Paragraph Text <div class = \"article_teaser_body\">\n",
    "\n",
    "url = \"https://mars.nasa.gov/news\"\n",
    "response = requests.get(url)\n",
    "soup = bs(response.text, 'html.parser')\n"
   ]
  },
  {
   "cell_type": "code",
   "execution_count": 6,
   "metadata": {},
   "outputs": [
    {
     "output_type": "execute_result",
     "data": {
      "text/plain": "ot;,&quot;id&quot;:93}]}],&quot;id&quot;:4,&quot;meganav_style&quot;:&quot;&quot;,&quot;features&quot;:[],&quot;short_description&quot;:null},{&quot;name&quot;:&quot;Multimedia&quot;,&quot;link&quot;:&quot;/#multimedia&quot;,&quot;target&quot;:&quot;_self&quot;,&quot;sections&quot;:[{&quot;items&quot;:[{&quot;name&quot;:&quot;Images&quot;,&quot;link&quot;:&quot;/multimedia/images/&quot;,&quot;target&quot;:&quot;_self&quot;,&quot;id&quot;:90},{&quot;name&quot;:&quot;Videos&quot;,&quot;link&quot;:&quot;/multimedia/videos/&quot;,&quot;target&quot;:&quot;_self&quot;,&quot;id&quot;:91},{&quot;name&quot;:&quot;More Resources&quot;,&quot;link&quot;:&quot;/multimedia/more-resources/&quot;,&quot;target&quot;:&quot;_self&quot;,&quot;id&quot;:413}]}],&quot;id&quot;:5,&quot;meganav_style&quot;:&quot;&quot;,&quot;features&quot;:[],&quot;short_description&quot;:null},{&quot;name&quot;:&quot;Missions&quot;,&quot;link&quot;:&quot;/#missions_gallery_subnav&quot;,&quot;target&quot;:&quot;_self&quot;,&quot;sections&quot;:[{&quot;items&quot;:[{&quot;name&quot;:&quot;Past&quot;,&quot;link&quot;:&quot;/mars-exploration/missions/?category=167&quot;,&quot;target&quot;:&quot;_self&quot;,&quot;id&quot;:38},{&quot;name&quot;:&quot;Present&quot;,&quot;link&quot;:&quot;/mars-exploration/missions/?category=170&quot;,&quot;target&quot;:&quot;_self&quot;,&quot;id&quot;:59},{&quot;name&quot;:&quot;Future&quot;,&quot;link&quot;:&quot;/mars-exploration/missions/?category=171&quot;,&quot;target&quot;:&quot;_self&quot;,&quot;id&quot;:60},{&quot;name&quot;:&quot;International Partners&quot;,&quot;link&quot;:&quot;/mars-exploration/partners&quot;,&quot;target&quot;:&quot;_self&quot;,&quot;id&quot;:40}]}],&quot;id&quot;:6,&quot;meganav_style&quot;:&quot;&quot;,&quot;features&quot;:[],&quot;short_description&quot;:null},{&quot;name&quot;:&quot;More&quot;,&quot;link&quot;:&quot;/#more&quot;,&quot;target&quot;:&quot;_self&quot;,&quot;sections&quot;:[],&quot;id&quot;:7,&quot;meganav_style&quot;:&quot;&quot;,&quot;features&quot;:[],&quot;short_description&quot;:null}],&quot;gallery_subnav_items&quot;:[{&quot;thumb&quot;:&quot;/system/missions/list_view_images/23_PIA23764-RoverNamePlateonMars-320x240.jpg&quot;,&quot;id&quot;:23,&quot;title&quot;:&quot;Mars 2020 Perseverance Rover&quot;,&quot;description&quot;:&quot;A mission to investigate key questions about potential life on Mars. &quot;,&quot;date&quot;:&quot;July 17, 2020&quot;,&quot;url&quot;:&quot;/mars-exploration/missions/mars2020/&quot;,&quot;link_text&quot;:&quot;&quot;,&quot;target&quot;:&quot;_blank&quot;,&quot;mi_traveled&quot;:null,&quot;gallery_subnav_link&quot;:&quot;https://mars.nasa.gov/mars2020/&quot;},{&quot;thumb&quot;:&quot;/system/missions/list_view_images/2_PIA14175-thmfeat.jpg&quot;,&quot;id&quot;:2,&quot;title&quot;:&quot;Curiosity Rover&quot;,&quot;description&quot;:&quot;The largest and most capable rover ever sent to Mars.&quot;,&quot;date&quot;:&quot;November 26, 2011&quot;,&quot;url&quot;:&quot;/mars-exploration/missions/mars-science-laboratory&quot;,&quot;link_text&quot;:&quot;&quot;,&quot;target&quot;:&quot;_blank&quot;,&quot;mi_traveled&quot;:13.66,&quot;gallery_subnav_link&quot;:&quot;https://mars.nasa.gov/msl/home/&quot;},{&quot;thumb&quot;:&quot;/system/missions/list_view_images/21_PIA22743-320x240.jpg&quot;,&quot;id&quot;:21,&quot;title&quot;:&quot;InSight Lander&quot;,&quot;description&quot;:&quot;A mission to study the deep interior of Mars. &quot;,&quot;date&quot;:&quot;November 26, 2018&quot;,&quot;url&quot;:&quot;/mars-exploration/missions/insight/&quot;,&quot;link_text&quot;:&quot;&quot;,&quot;target&quot;:&quot;_blank&quot;,&quot;mi_traveled&quot;:null,&quot;gallery_subnav_link&quot;:&quot;https://mars.nasa.gov/insight/&quot;},{&quot;thumb&quot;:&quot;/system/missions/list_view_images/6_maven_320x240.jpg&quot;,&quot;id&quot;:6,&quot;title&quot;:&quot;MAVEN&quot;,&quot;description&quot;:&quot;Measures Mars' atmosphere to understand its climate change.&quot;,&quot;date&quot;:&quot;November 18, 2013&quot;,&quot;url&quot;:&quot;/mars-exploration/missions/maven&quot;,&quot;link_text&quot;:&quot;&quot;,&quot;target&quot;:&quot;_blank&quot;,&quot;mi_traveled&quot;:null,&quot;gallery_subnav_link&quot;:&quot;https://mars.nasa.gov/maven/&quot;},{&quot;thumb&quot;:&quot;/system/missions/list_view_images/8_MRO_320x240.jpg&quot;,&quot;id&quot;:8,&quot;title&quot;:&quot;Mars Reconnaissance Orbiter&quot;,&quot;description&quot;:&quot;Takes high-resolution imagery of Martian terrain with extraordinary clarity. &quot;,&quot;date&quot;:&quot;August 12, 2012&quot;,&quot;url&quot;:&quot;/mars-exploration/missions/mars-reconnaissance-orbiter&quot;,&quot;link_text&quot;:&quot;&quot;,&quot;target&quot;:&quot;_blank&quot;,&quot;mi_traveled&quot;:null,&quot;gallery_subnav_link&quot;:&quot;https://mars.nasa.gov/mro/&quot;},{&quot;thumb&quot;:&quot;/system/missions/list_view_images/5_mars_odyssey320x240.jpg&quot;,&quot;id&quot;:5,&quot;title&quot;:&quot;2001 Mars Odyssey&quot;,&quot;description&quot;:&quot;NASA's longest-lasting spacecraft at Mars. &quot;,&quot;date&quot;:&quot;April  7, 2001&quot;,&quot;url&quot;:&quot;/mars-exploration/missions/odyssey&quot;,&quot;link_text&quot;:&quot;&quot;,&quot;target&quot;:&quot;_blank&quot;,&quot;mi_traveled&quot;:null,&quot;gallery_subnav_link&quot;:&quot;https://mars.nasa.gov/odyssey/&quot;}],&quot;search&quot;:true,&quot;search_placeholder&quot;:{&quot;placeholder&quot;:&quot;&quot;},&quot;highlight_current&quot;:{&quot;highlight&quot;:true,&quot;current_id&quot;:83,&quot;parent_ids&quot;:[]},&quot;search_submit&quot;:&quot;/search/&quot;}\"></nav>\n</div>\n</div>\n</div>\n</header>\n</div>\n<div id=\"sticky_nav_spacer\"></div>\n<div id=\"page\">\n<div class=\"page_cover\"></div>\n<!-- title to go in the page_header -->\n<div class=\"header_mask\">\n<section class=\"content_page module\"></section>\n</div>\n<div class=\"grid_list_page module content_page\">\n<div class=\"grid_layout\">\n<article>\n<header id=\"page_header\">\n</header>\n<div class=\"react_grid_list grid_list_container\" data-react-cache-id=\"GridListPage-0\" data-react-class=\"GridListPage\" data-react-props='{\"left_column\":false,\"class_name\":\"\",\"default_view\":\"list_view\",\"model\":\"news_items\",\"view_toggle\":false,\"search\":\"true\",\"list_item\":\"News\",\"title\":\"News\",\"categories\":[\"19,165,184,204\"],\"order\":\"publish_date desc,created_at desc\",\"no_items_text\":\"There are no items matching these criteria.\",\"site_title\":\"NASA’s Mars Exploration Program \",\"short_title\":\"Mars\",\"site_share_image\":\"/system/site_config_values/meta_share_images/1_142497main_PIA03154-200.jpg\",\"per_page\":null,\"filters\":\"[ [ \\\"date\\\", [ [ \\\"2020\\\", \\\"2020\\\" ], [ \\\"2019\\\", \\\"2019\\\" ], [ \\\"2018\\\", \\\"2018\\\" ], [ \\\"2017\\\", \\\"2017\\\" ], [ \\\"2016\\\", \\\"2016\\\" ], [ \\\"2015\\\", \\\"2015\\\" ], [ \\\"2014\\\", \\\"2014\\\" ], [ \\\"2013\\\", \\\"2013\\\" ], [ \\\"2012\\\", \\\"2012\\\" ], [ \\\"2011\\\", \\\"2011\\\" ], [ \\\"2010\\\", \\\"2010\\\" ], [ \\\"2009\\\", \\\"2009\\\" ], [ \\\"2008\\\", \\\"2008\\\" ], [ \\\"2007\\\", \\\"2007\\\" ], [ \\\"2006\\\", \\\"2006\\\" ], [ \\\"2005\\\", \\\"2005\\\" ], [ \\\"2004\\\", \\\"2004\\\" ], [ \\\"2003\\\", \\\"2003\\\" ], [ \\\"2002\\\", \\\"2002\\\" ], [ \\\"2001\\\", \\\"2001\\\" ], [ \\\"2000\\\", \\\"2000\\\" ] ], [ \\\"Latest\\\", \\\"\\\" ], false ], [ \\\"categories\\\", [ [ \\\"Feature Stories\\\", 165 ], [ \\\"Press Releases\\\", 19 ], [ \\\"Spotlights\\\", 184 ], [ \\\"Status Reports\\\", 204 ] ], [ \\\"All Categories\\\", \\\"\\\" ], false ] ]\",\"conditions\":null,\"scope_in_title\":true,\"options\":{\"blank_scope\":\"Latest\"},\"results_in_title\":false}'></div>\n</article>\n</div>\n</div>\n<section class=\"module suggested_features\">\n<div class=\"grid_layout\">\n<header>\n<h2 class=\"module_title\">You Might Also Like</h2>\n</header>\n<section>\n<script>\n  $(document).ready(function(){\n    $(\".features\").slick({\n      dots: false,\n      infinite: true,\n      speed: 300,\n      slide: '.features .slide',\n      slidesToShow: 3,\n      slidesToScroll: 3,\n      lazyLoad: 'ondemand',\n      centerMode: false,\n      arrows: true,\n      appendArrows: '.features .slick-nav',\n      appendDots: \".features .slick-nav\",\n      responsive: [{\"breakpoint\":953,\"settings\":{\"slidesToShow\":2,\"slidesToScroll\":2,\"centerMode\":false}},{\"breakpoint\":480,\"settings\":{\"slidesToShow\":1,\"slidesToScroll\":1,\"centerMode\":true,\"arrows\":false,\"centerPadding\":\"25px\"}}]\n    });\n  });\n</script>\n<div class=\"features\">\n<div class=\"slide\">\n<div class=\"image_and_description_container\">\n<a href=\"/news/8645/mars-helicopter-attached-to-nasas-perseverance-rover/\">\n<div class=\"rollover_description\">\n<div class=\"rollover_description_inner\">\nThe team also fueled the rover's sky crane to get ready for this summer's history-making launch.\n</div>\n<div class=\"overlay_arrow\">\n<img alt=\"More\" src=\"/assets/overlay-arrow.png\"/>\n</div>\n</div>\n<img alt=\"Mars Helicopter Attached to NASA's Perseverance Rover\" class=\"img-lazy\" data-lazy=\"/system/news_items/list_view_images/8645_PIA23824-RoverWithHelicopter-32x24.jpg\" src=\"/assets/loading_320x240.png\"/>\n</a>\n</div>\n<div class=\"content_title\">\n<a href=\"/news/8645/mars-helicopter-attached-to-nasas-perseverance-rover/\">\nMars Helicopter Attached to NASA's Perseverance Rover\n</a>\n</div>\n</div>\n<div class=\"slide\">\n<div class=\"image_and_description_container\">\n<a href=\"/news/8641/nasas-perseverance-mars-rover-gets-its-wheels-and-air-brakes/\">\n<div class=\"rollover_description\">\n<div class=\"rollover_description_inner\">\nAfter the rover was shipped from JPL to Kennedy Space Center, the team is getting closer to finalizing the spacecraft for launch later this summer.\n</div>\n<div class=\"overlay_arrow\">\n<img alt=\"More\" src=\"/assets/overlay-arrow.png\"/>\n</div>\n</div>\n<img alt=\"NASA's Perseverance Mars Rover Gets Its Wheels and Air Brakes\" class=\"img-lazy\" data-lazy=\"/system/news_items/list_view_images/8641_PIA-23821-320x240.jpg\" src=\"/assets/loading_320x240.png\"/>\n</a>\n</div>\n<div class=\"content_title\">\n<a href=\"/news/8641/nasas-perseverance-mars-rover-gets-its-wheels-and-air-brakes/\">\nNASA's Perseverance Mars Rover Gets Its Wheels and Air Brakes\n</a>\n</div>\n</div>\n<div class=\"slide\">\n<div class=\"image_and_description_container\">\n<a href=\"/news/8634/109-million-names-now-aboard-nasas-perseverance-mars-rover/\">\n<div class=\"rollover_description\">\n<div class=\"rollover_description_inner\">\nAs part of NASA's 'Send Your Name to Mars' campaign, they've been stenciled onto three microchips along with essays from NASA's 'Name the Rover' contest. Next stop: Mars.\n</div>\n<div class=\"overlay_arrow\">\n<img alt=\"More\" src=\"/assets/overlay-arrow.png\"/>\n</div>\n</div>\n<img alt=\"10.9 Million Names Now Aboard NASA's Perseverance Mars Rover\" class=\"img-lazy\" data-lazy=\"/system/news_items/list_view_images/8634_PIA23769-320x240.jpg\" src=\"/assets/loading_320x240.png\"/>\n</a>\n</div>\n<div class=\"content_title\">\n<a href=\"/news/8634/109-million-names-now-aboard-nasas-perseverance-mars-rover/\">\n10.9 Million Names Now Aboard NASA's Perseverance Mars Rover\n</a>\n</div>\n</div>\n<div class=\"slide\">\n<div class=\"image_and_description_container\">\n<a href=\"/news/8622/virginia-middle-school-student-earns-honor-of-naming-nasas-next-mars-rover/\">\n<div class=\"rollover_description\">\n<div class=\"rollover_description_inner\">\nNASA chose a seventh-grader from Virginia as winner of the agency's \"Name the Rover\" essay contest. Alexander Mather's entry for \"Perseverance\" was voted tops among 28,000 entries. \n</div>\n<div class=\"overlay_arrow\">\n<img alt=\"More\" src=\"/assets/overlay-arrow.png\"/>\n</div>\n</div>\n<img alt=\"Virginia Middle School Student Earns Honor of Naming NASA's Next Mars Rover\" class=\"img-lazy\" data-lazy=\"/system/news_items/list_view_images/8622_1-PIA23764-RoverNamePlateonMars-320x240.jpg\" src=\"/assets/loading_320x240.png\"/>\n</a>\n</div>\n<div class=\"content_title\">\n<a href=\"/news/8622/virginia-middle-school-student-earns-honor-of-naming-nasas-next-mars-rover/\">\nVirginia Middle School Student Earns Honor of Naming NASA's Next Mars Rover\n</a>\n</div>\n</div>\n<div class=\"slide\">\n<div class=\"image_and_description_container\">\n<a href=\"/news/8606/nasa-prepares-for-moon-and-mars-with-new-addition-to-its-deep-space-network/\">\n<div class=\"rollover_description\">\n<div class=\"rollover_description_inner\">\nRobotic spacecraft will be able to communicate with the dish using radio waves and lasers.\n</div>\n<div class=\"overlay_arrow\">\n<img alt=\"More\" src=\"/assets/overlay-arrow.png\"/>\n</div>\n</div>\n<img alt=\"NASA Prepares for Moon and Mars With New Addition to Its Deep Space Network\" class=\"img-lazy\" data-lazy=\"/system/news_items/list_view_images/8606_list_image.jpg\" src=\"/assets/loading_320x240.png\"/>\n</a>\n</div>\n<div class=\"content_title\">\n<a href=\"/news/8606/nasa-prepares-for-moon-and-mars-with-new-addition-to-its-deep-space-network/\">\nNASA Prepares for Moon and Mars With New Addition to Its Deep Space Network\n</a>\n</div>\n</div>\n<div class=\"slide\">\n<div class=\"image_and_description_container\">\n<a href=\"/news/8603/nasa-administrator-statement-on-moon-to-mars-initiative-fy-2021-budget/\">\n<div class=\"rollover_description\">\n<div class=\"rollover_description_inner\">\nJim Bridenstine addresses NASA's ambitious plans for the coming years, including Mars Sample Return.\n</div>\n<div class=\"overlay_arrow\">\n<img alt=\"More\" src=\"/assets/overlay-arrow.png\"/>\n</div>\n</div>\n<img alt=\"NASA Administrator Statement on Moon to Mars Initiative, FY 2021 Budget\" class=\"img-lazy\" data-lazy=\"/system/news_items/list_view_images/8603_list_image.jpg\" src=\"/assets/loading_320x240.png\"/>\n</a>\n</div>\n<div class=\"content_title\">\n<a href=\"/news/8603/nasa-administrator-statement-on-moon-to-mars-initiative-fy-2021-budget/\">\nNASA Administrator Statement on Moon to Mars Initiative, FY 2021 Budget\n</a>\n</div>\n</div>\n<div class=\"grid_layout\">\n<div class=\"slick-nav_container\">\n<div class=\"slick-nav\"></div>\n</div>\n</div>\n</div>\n</section>\n</div>\n</section>\n</div>\n<footer id=\"site_footer\">\n<div class=\"grid_layout\">\n<section class=\"upper_footer\">\n<div class=\"share_newsletter_container\">\n<div class=\"newsletter\">\n<h2>Get the Mars Newsletter</h2>\n<form action=\"/newsletter-subscribe\">\n<input id=\"email\" name=\"email\" placeholder=\"enter email address\" type=\"email\" value=\"\"/>\n<input data-disable-with=\"\" name=\"commit\" type=\"submit\" value=\"\"/>\n</form>\n</div>\n<div class=\"share\">\n<h2>Follow the Journey</h2>\n<div class=\"social_icons\">\n<!-- AddThis Button BEGIN -->\n<div class=\"addthis_toolbox addthis_default_style addthis_32x32_style\"><a addthis:userid=\"MarsCuriosity\" class=\"addthis_button_twitter_follow icon\">\n<img alt=\"twitter\" src=\"/assets/twitter_icon@2x.png\"/>\n</a><a addthis:userid=\"MarsCuriosity\" class=\"addthis_button_facebook_follow icon\">\n<img alt=\"facebook\" src=\"/assets/facebook_icon@2x.png\"/>\n</a><a addthis:userid=\"nasa\" class=\"addthis_button_instagram_follow icon\">\n<img alt=\"instagram\" src=\"/assets/instagram_icon@2x.png\"/>\n</a><a addthis:url=\"https://mars.nasa.gov/rss/api/?feed=news&amp;category=all&amp;feedtype=rss\" class=\"addthis_button_rss_follow icon\">\n<img alt=\"rss\" src=\"/assets/rss_icon@2x.png\"/>\n</a></div>\n</div>\n<script src=\"//s7.addthis.com/js/300/addthis_widget.js#pubid=ra-5a690e4c1320e328\"></script>\n</div>\n</div>\n<div class=\"gradient_line\"></div>\n</section>\n<section class=\"sitemap\">\n<div class=\"sitemap_directory\" id=\"sitemap_directory\">\n<div class=\"sitemap_block\">\n<div class=\"footer_sitemap_item\">\n<h3 class=\"sitemap_title\">\n<a href=\"/#red_planet\">The Red Planet</a>\n</h3>\n<ul><li>\n<div class=\"global_subnav_container\">\n<ul class=\"subnav\">\n<li>\n<a href=\"/#red_planet/0\" target=\"_self\">Dashboard</a>\n</li>\n<li>\n<a href=\"/#red_planet/1\" target=\"_self\">Science Goals</a>\n</li>\n<li>\n<a href=\"/#red_planet/2\" target=\"_self\">The Planet</a>\n</li>\n<li>\n<a href=\"/#red_planet/3\" target=\"_self\">Atmosphere</a>\n</li>\n<li>\n<a href=\"/#red_planet/4\" target=\"_self\">Astrobiology</a>\n</li>\n<li>\n<a href=\"/#red_planet/5\" target=\"_self\">Past, Present, Future, Timeline</a>\n</li>\n</ul>\n</div>\n</li></ul>\n</div>\n</div>\n<div class=\"sitemap_block\">\n<div class=\"footer_sitemap_item\">\n<h3 class=\"sitemap_title\">\n<a href=\"/#mars_exploration_program\">The Program</a>\n</h3>\n<ul><li>\n<div class=\"global_subnav_container\">\n<ul class=\"subnav\">\n<li>\n<a href=\"/#mars_exploration_program/0\" target=\"_self\">Mission Statement</a>\n</li>\n<li>\n<a href=\"/#mars_exploration_program/1\" target=\"_self\">About the Program</a>\n</li>\n<li>\n<a href=\"/#mars_exploration_program/2\" target=\"_self\">Organization</a>\n</li>\n<li>\n<a href=\"/#mars_exploration_program/3\" target=\"_self\">Why Mars?</a>\n</li>\n<li>\n<a href=\"/#mars_exploration_program/4\" target=\"_self\">Research Programs</a>\n</li>\n<li>\n<a href=\"/#mars_exploration_program/5\" target=\"_self\">Planetary Resources</a>\n</li>\n<li>\n<a href=\"/#mars_exploration_program/6\" target=\"_self\">Technologies</a>\n</li>\n</ul>\n</div>\n</li></ul>\n</div>\n</div>\n<div class=\"sitemap_block\">\n<div class=\"footer_sitemap_item\">\n<h3 class=\"sitemap_title\">\n<a href=\"/#news_and_events\">News &amp; Events</a>\n</h3>\n<ul><li>\n<div class=\"global_subnav_container\">\n<ul class=\"subnav\">\n<li class=\"current\">\n<a href=\"/news\" target=\"_self\">News</a>\n</li>\n<li>\n<a href=\"/events\" target=\"_self\">Events</a>\n</li>\n</ul>\n</div>\n</li></ul>\n</div>\n</div>\n<div class=\"sitemap_block\">\n<div class=\"footer_sitemap_item\">\n<h3 class=\"sitemap_title\">\n<a href=\"/#multimedia\">Multimedia</a>\n</h3>\n<ul><li>\n<div class=\"global_subnav_container\">\n<ul class=\"subnav\">\n<li>\n<a href=\"/multimedia/images/\" target=\"_self\">Images</a>\n</li>\n<li>\n<a href=\"/multimedia/videos/\" target=\"_self\">Videos</a>\n</li>\n<li>\n<a href=\"/multimedia/more-resources/\" target=\"_self\">More Resources</a>\n</li>\n</ul>\n</div>\n</li></ul>\n</div>\n</div>\n<div class=\"sitemap_block\">\n<div class=\"footer_sitemap_item\">\n<h3 class=\"sitemap_title\">\n<a href=\"/#missions_gallery_subnav\">Missions</a>\n</h3>\n<ul><li>\n<div class=\"global_subnav_container\">\n<ul class=\"subnav\">\n<li>\n<a href=\"/mars-exploration/missions/?category=167\" target=\"_self\">Past</a>\n</li>\n<li>\n<a href=\"/mars-exploration/missions/?category=170\" target=\"_self\">Present</a>\n</li>\n<li>\n<a href=\"/mars-exploration/missions/?category=171\" target=\"_self\">Future</a>\n</li>\n<li>\n<a href=\"/mars-exploration/partners\" target=\"_self\">International Partners</a>\n</li>\n</ul>\n</div>\n</li></ul>\n</div>\n</div>\n<div class=\"sitemap_block\">\n<div class=\"footer_sitemap_item\">\n<h3 class=\"sitemap_title\">\n<a href=\"/#more\">More</a>\n</h3>\n<ul><li>\n<div class=\"global_subnav_container\">\n<ul class=\"subnav\">\n</ul>\n</div>\n</li></ul>\n</div>\n</div>\n</div>\n<div class=\"gradient_line\"></div>\n</section>\n<section class=\"lower_footer\">\n<div class=\"nav_container\">\n<nav>\n<ul>\n<li>\n<a href=\"http://science.nasa.gov/\" target=\"_blank\">NASA Science Mission Directorate</a>\n</li>\n<li>\n<a href=\"https://www.jpl.nasa.gov/copyrights.php\" target=\"_blank\">Privacy</a>\n</li>\n<li>\n<a href=\"http://www.jpl.nasa.gov/imagepolicy/\" target=\"_blank\">Image Policy</a>\n</li>\n<li>\n<a href=\"https://mars.nasa.gov/feedback/\" target=\"_self\">Feedback</a>\n</li>\n</ul>\n</nav>\n</div>\n<div class=\"credits\">\n<div class=\"footer_brands_top\">\n<p>Managed by the Mars Exploration Program and the Jet Propulsion Laboratory for NASA’s Science Mission Directorate</p>\n</div>\n<!-- .footer_brands -->\n<!-- %a.jpl{href: \"\", target: \"_blank\"}Institution -->\n<!-- -->\n<!-- %a.caltech{href: \"\", target: \"_blank\"}Institution -->\n<!-- .staff -->\n<!-- %p -->\n<!-- - get_staff_for_category(get_field_from_admin_config(:web_staff_category_id)) -->\n<!-- - @staff.each_with_index do |staff, idx| -->\n<!-- - unless staff.is_in_footer == 0 -->\n<!-- = staff.title + \": \" -->\n<!-- - if staff.contact_link =~ /@/ -->\n<!-- = mail_to staff.contact_link, staff.name, :subject => \"[#{@site_title}]\" -->\n<!-- - elsif staff.contact_link.present? -->\n<!-- = link_to staff.name, staff.contact_link -->\n<!-- - else -->\n<!-- = staff.name -->\n<!-- - unless (idx + 1 == @staff.size) -->\n<!-- %br -->\n</div>\n</section>\n</div>\n</footer>\n</div>\n</div>\n<script id=\"_fed_an_ua_tag\" src=\"https://dap.digitalgov.gov/Universal-Federated-Analytics-Min.js?agency=NASA&amp;subagency=JPL-Mars-MEPJPL&amp;pua=UA-9453474-9,UA-118212757-11&amp;dclink=true&amp;sp=searchbox&amp;exts=tif,tiff,wav\" type=\"text/javascript\"></script>\n</body>\n</html>"
     },
     "metadata": {},
     "execution_count": 6
    }
   ],
   "source": [
    "soup"
   ]
  },
  {
   "cell_type": "code",
   "execution_count": 17,
   "metadata": {},
   "outputs": [
    {
     "output_type": "stream",
     "name": "stdout",
     "text": "\n\nMars Helicopter Attached to NASA's Perseverance Rover\n\n\n\nThe team also fueled the rover's sky crane to get ready for this summer's history-making launch.\n\n"
    }
   ],
   "source": [
    "title = soup.find_all('div', class_='content_title')[0].text\n",
    "paragraph = soup.find_all('div', class_=\"rollover_description_inner\")[0].text\n",
    "\n",
    "print(title)\n",
    "print(paragraph)"
   ]
  },
  {
   "cell_type": "markdown",
   "metadata": {},
   "source": [
    "## JPL Mars Space Images"
   ]
  },
  {
   "cell_type": "code",
   "execution_count": 19,
   "metadata": {},
   "outputs": [],
   "source": [
    "#Visit the url for JPL Featured Space Image here (https://www.jpl.nasa.gov/spaceimages/?search=&category=Mars).\n",
    "#Use splinter to navigate the site and find the image url for the current Featured Mars Image and assign the url string to a variable called featured_image_url.\n",
    "#Make sure to find the image url to the full size .jpg image.\n",
    "#Make sure to save a complete url string for this image.\n",
    "\n",
    "#Use splinter to browse(url)\n",
    "#LOOK AT SITE TO GET TO THE CURRENT FEATURED MARS IMAGE TAGS\n",
    "#Use splinter to click on full size image\n",
    "#Parse HTML to get full URL and store in variable\n",
    "\n",
    "executable_path = {'executable_path': 'chromedriver.exe'}\n",
    "browser = Browser('chrome', **executable_path, headless=False)\n",
    "\n",
    "url = 'https://www.jpl.nasa.gov/spaceimages/?search=&category=Mars'\n",
    "browser.visit(url)\n"
   ]
  },
  {
   "cell_type": "code",
   "execution_count": 20,
   "metadata": {},
   "outputs": [],
   "source": [
    "browser.click_link_by_partial_text('FULL')"
   ]
  },
  {
   "cell_type": "code",
   "execution_count": 21,
   "metadata": {},
   "outputs": [
    {
     "output_type": "execute_result",
     "data": {
      "text/plain": "PL\" target=\"_blank\" title=\"Follow on Twitter\"><span class=\"at-icon-wrapper\" style=\"background-color: rgb(29, 161, 242); line-height: 32px; height: 32px; width: 32px;\"><svg alt=\"Twitter\" aria-labelledby=\"at-svg-twitter-6\" class=\"at-icon at-icon-twitter\" role=\"img\" style=\"width: 32px; height: 32px;\" title=\"Twitter\" version=\"1.1\" viewbox=\"0 0 32 32\" xmlns=\"http://www.w3.org/2000/svg\" xmlns:xlink=\"http://www.w3.org/1999/xlink\"><title id=\"at-svg-twitter-6\">Twitter</title><g><path d=\"M27.996 10.116c-.81.36-1.68.602-2.592.71a4.526 4.526 0 0 0 1.984-2.496 9.037 9.037 0 0 1-2.866 1.095 4.513 4.513 0 0 0-7.69 4.116 12.81 12.81 0 0 1-9.3-4.715 4.49 4.49 0 0 0-.612 2.27 4.51 4.51 0 0 0 2.008 3.755 4.495 4.495 0 0 1-2.044-.564v.057a4.515 4.515 0 0 0 3.62 4.425 4.52 4.52 0 0 1-2.04.077 4.517 4.517 0 0 0 4.217 3.134 9.055 9.055 0 0 1-5.604 1.93A9.18 9.18 0 0 1 6 23.85a12.773 12.773 0 0 0 6.918 2.027c8.3 0 12.84-6.876 12.84-12.84 0-.195-.005-.39-.014-.583a9.172 9.172 0 0 0 2.252-2.336\" fill-rule=\"evenodd\"></path></g></svg></span><span class=\"addthis_follow_label\">Twitter</span></a>\n<a addthis:userid=\"JPLnews\" class=\"addthis_button_youtube_follow icon at300b\" href=\"http://www.youtube.com/user/JPLnews?sub_confirmation=1\" target=\"_blank\" title=\"Follow on YouTube\"><span class=\"at-icon-wrapper\" style=\"background-color: rgb(205, 32, 31); line-height: 32px; height: 32px; width: 32px;\"><svg alt=\"YouTube\" aria-labelledby=\"at-svg-youtube-7\" class=\"at-icon at-icon-youtube\" role=\"img\" style=\"width: 32px; height: 32px;\" title=\"YouTube\" version=\"1.1\" viewbox=\"0 0 32 32\" xmlns=\"http://www.w3.org/2000/svg\" xmlns:xlink=\"http://www.w3.org/1999/xlink\"><title id=\"at-svg-youtube-7\">YouTube</title><g><path d=\"M13.73 18.974V12.57l5.945 3.212-5.944 3.192zm12.18-9.778c-.837-.908-1.775-.912-2.205-.965C20.625 8 16.007 8 16.007 8c-.01 0-4.628 0-7.708.23-.43.054-1.368.058-2.205.966-.66.692-.875 2.263-.875 2.263S5 13.303 5 15.15v1.728c0 1.845.22 3.69.22 3.69s.215 1.57.875 2.262c.837.908 1.936.88 2.426.975 1.76.175 7.482.23 7.482.15 0 .08 4.624.072 7.703-.16.43-.052 1.368-.057 2.205-.965.66-.69.875-2.262.875-2.262s.22-1.845.22-3.69v-1.73c0-1.844-.22-3.69-.22-3.69s-.215-1.57-.875-2.262z\" fill-rule=\"evenodd\"></path></g></svg></span><span class=\"addthis_follow_label\">YouTube</span></a>\n<a addthis:userid=\"nasajpl\" class=\"addthis_button_instagram_follow icon at300b\" href=\"http://instagram.com/nasajpl\" target=\"_blank\" title=\"Follow on Instagram\"><span class=\"at-icon-wrapper\" style=\"background-color: rgb(224, 53, 102); line-height: 32px; height: 32px; width: 32px;\"><svg alt=\"Instagram\" aria-labelledby=\"at-svg-instagram-8\" class=\"at-icon at-icon-instagram\" role=\"img\" style=\"width: 32px; height: 32px;\" title=\"Instagram\" version=\"1.1\" viewbox=\"0 0 32 32\" xmlns=\"http://www.w3.org/2000/svg\" xmlns:xlink=\"http://www.w3.org/1999/xlink\"><title id=\"at-svg-instagram-8\">Instagram</title><g><path d=\"M16 5c-2.987 0-3.362.013-4.535.066-1.17.054-1.97.24-2.67.512a5.392 5.392 0 0 0-1.95 1.268 5.392 5.392 0 0 0-1.267 1.95c-.272.698-.458 1.498-.512 2.67C5.013 12.637 5 13.012 5 16s.013 3.362.066 4.535c.054 1.17.24 1.97.512 2.67.28.724.657 1.337 1.268 1.95a5.392 5.392 0 0 0 1.95 1.268c.698.27 1.498.457 2.67.51 1.172.054 1.547.067 4.534.067s3.362-.013 4.535-.066c1.17-.054 1.97-.24 2.67-.51a5.392 5.392 0 0 0 1.95-1.27 5.392 5.392 0 0 0 1.268-1.95c.27-.698.457-1.498.51-2.67.054-1.172.067-1.547.067-4.534s-.013-3.362-.066-4.535c-.054-1.17-.24-1.97-.51-2.67a5.392 5.392 0 0 0-1.27-1.95 5.392 5.392 0 0 0-1.95-1.267c-.698-.272-1.498-.458-2.67-.512C19.363 5.013 18.988 5 16 5zm0 1.982c2.937 0 3.285.01 4.445.064 1.072.05 1.655.228 2.042.38.514.198.88.437 1.265.822.385.385.624.75.823 1.265.15.387.33.97.38 2.042.052 1.16.063 1.508.063 4.445 0 2.937-.01 3.285-.064 4.445-.05 1.072-.228 1.655-.38 2.042-.198.514-.437.88-.822 1.265-.385.385-.75.624-1.265.823-.387.15-.97.33-2.042.38-1.16.052-1.508.063-4.445.063-2.937 0-3.285-.01-4.445-.064-1.072-.05-1.655-.228-2.042-.38-.514-.198-.88-.437-1.265-.822a3.408 3.408 0 0 1-.823-1.265c-.15-.387-.33-.97-.38-2.042-.052-1.16-.063-1.508-.063-4.445 0-2.937.01-3.285.064-4.445.05-1.072.228-1.655.38-2.042.198-.514.437-.88.822-1.265.385-.385.75-.624 1.265-.823.387-.15.97-.33 2.042-.38 1.16-.052 1.508-.063 4.445-.063zm0 12.685a3.667 3.667 0 1 1 0-7.334 3.667 3.667 0 0 1 0 7.334zm0-9.316a5.65 5.65 0 1 0 0 11.3 5.65 5.65 0 0 0 0-11.3zm7.192-.222a1.32 1.32 0 1 1-2.64 0 1.32 1.32 0 0 1 2.64 0\" fill-rule=\"evenodd\"></path></g></svg></span><span class=\"addthis_follow_label\">Instagram</span></a>\n<a class=\"icon all_icon\" href=\"/social\">\n<span>All</span>\n</a>\n<div class=\"atclear\"></div></div>\n<script>\n                    addthis_loader.init(\"//s7.addthis.com/js/300/addthis_widget.js#pubid=ra-5429eeee4e460927\", {follow: true})\n                  </script>\n</div>\n</div>\n</div>\n<div class=\"gradient_line\"></div>\n</section>\n<section class=\"sitemap\">\n<div class=\"grid_layout\">\n<div class=\"sitemap_directory\">\n<div class=\"sitemap_block\">\n<div class=\"footer_sitemap_item\">\n<h3 class=\"sitemap_title\">\n                      about JPL\n                    </h3>\n<ul class=\"subnav\">\n<li>\n<a href=\"/about/\">About JPL</a>\n</li>\n<li>\n<a href=\"https://www.jpl.nasa.gov/jpl2025/vision/\">JPL Vision</a>\n</li>\n<li>\n<a href=\"/about/exec.php\">Executive Council</a>\n</li>\n<li>\n<a href=\"/about/history.php\">History</a>\n</li>\n<li>\n<a href=\"/about/reports.php\">Annual Reports</a>\n</li>\n<li>\n<a href=\"/contact_JPL.php\">Contact Us</a>\n</li>\n<li>\n<a href=\"/opportunities/\">Opportunities</a>\n</li>\n<li>\n<a href=\"https://thejplstore.com\" target=\"_blank\">JPL Online Store</a>\n</li>\n<li>\n<a href=\"/acquisition/\">Doing Business with JPL</a>\n</li>\n</ul>\n</div>\n<div class=\"footer_sitemap_item\">\n<h3 class=\"sitemap_title\">\n                      missions\n                    </h3>\n<ul class=\"subnav\">\n<li>\n<a href=\"/missions/?type=current\">Current</a>\n</li>\n<li>\n<a href=\"/missions/?type=past\">Past</a>\n</li>\n<li>\n<a href=\"/missions/?type=future\">Future</a>\n</li>\n<li>\n<a href=\"/missions/?type=proposed\">Proposed</a>\n</li>\n<li>\n<a href=\"/missions\">All</a>\n</li>\n</ul>\n</div>\n</div>\n<div class=\"sitemap_block\">\n<div class=\"footer_sitemap_item\">\n<h3 class=\"sitemap_title\">\n                      education\n                    </h3>\n<ul class=\"subnav\">\n<li>\n<a href=\"/edu/intern/\">Intern</a>\n</li>\n<li>\n<a href=\"/edu/learn/\">Learn</a>\n</li>\n<li>\n<a href=\"/edu/teach/\">Teach</a>\n</li>\n<li>\n<a href=\"/edu/news/\">News</a>\n</li>\n<li>\n<a href=\"/edu/events/\">Events</a>\n</li>\n</ul>\n</div>\n<div class=\"footer_sitemap_item\">\n<h3 class=\"sitemap_title\">\n                      news\n                    </h3>\n<ul class=\"subnav\">\n<li>\n<a href=\"/news\">Latest News</a>\n</li>\n<li>\n<a href=\"/news/presskits.php\">Press Kits</a>\n</li>\n<li>\n<a href=\"/news/factsheets.php\">Fact Sheets</a>\n</li>\n<li>\n<a href=\"/news/mediainformation.php\">Media Information</a>\n</li>\n<li>\n<a href=\"/universe/\">Universe Newspaper</a>\n</li>\n</ul>\n</div>\n<div class=\"footer_sitemap_item\">\n<h3 class=\"sitemap_title\">\n                      public events</h3>\n<ul class=\"subnav\">\n<li>\n<a href=\"/events/\">Overview</a>\n</li>\n<li>\n<a href=\"/events/tours/views/\">Tours</a>\n</li>\n<li>\n<a href=\"/events/lectures.php\">Lecture Series</a>\n</li>\n<li>\n<a href=\"/events/speakers-bureau.php\">Speakers Bureau</a>\n</li>\n<li>\n<a href=\"/events/team-competitions.php\">Team Competitions</a>\n</li>\n<li>\n<a href=\"/events/special-events.php\">Special Events</a>\n</li>\n</ul>\n</div>\n</div>\n<div class=\"sitemap_block\">\n<div class=\"footer_sitemap_item\">\n<h3 class=\"sitemap_title\">\n                      Our Sites\n                    </h3>\n<ul class=\"subnav\">\n<li>\n<a href=\"/asteroidwatch/\">Asteroid Watch</a>\n</li>\n<li>\n<a href=\"https://solarsystem.nasa.gov/basics/\" target=\"_blank\">Basics of Spaceflight\n                      </a></li><a href=\"https://solarsystem.nasa.gov/basics/\" target=\"_blank\">\n</a><li><a href=\"https://solarsystem.nasa.gov/basics/\" target=\"_blank\">\n</a><a href=\"https://saturn.jpl.nasa.gov/index.cfm\">Cassini - Mission to Saturn</a>\n</li>\n<li>\n<a href=\"https://climatekids.nasa.gov/index.cfm\">Climate Kids</a>\n</li>\n<li>\n<a href=\"https://climate.nasa.gov\">Earth / Global Climate Change</a>\n</li>\n<li>\n<a href=\"https://planetquest.jpl.nasa.gov\">Exoplanet Exploration</a>\n</li>\n<li>\n<a href=\"/missions/juno/\">Juno - Mission to Jupiter</a>\n</li>\n<li>\n<a href=\"https://mars.nasa.gov/\">Mars Exploration</a>\n</li>\n<li>\n<a href=\"https://scienceandtechnology.jpl.nasa.gov/\">Science and Technology</a>\n</li>\n<li>\n<a href=\"https://solarsystem.nasa.gov/\">Solar System Exploration</a>\n</li>\n<li>\n<a href=\"https://spaceplace.nasa.gov/\">Space Place</a>\n</li>\n<li>\n<a href=\"https://eyes.nasa.gov/\">NASA's Eyes</a>\n</li>\n<li>\n<a href=\"https://www.spitzer.caltech.edu/\">Spitzer Space Telescope</a>\n</li>\n<li>\n<a href=\"https://voyager.jpl.nasa.gov/\">Voyager Interstellar Mission</a>\n</li>\n</ul>\n</div>\n<div class=\"footer_sitemap_item\">\n<h3 class=\"sitemap_title\">\n                      galleries\n                    </h3>\n<ul class=\"subnav\">\n<li>\n<a href=\"/spaceimages/\">JPL Space Images</a>\n</li>\n<li>\n<a href=\"/video/\">Videos</a>\n</li>\n<li>\n<a href=\"/infographics/\">Infographics</a>\n</li>\n<li>\n<a href=\"https://photojournal.jpl.nasa.gov/\">Photojournal</a>\n</li>\n<li>\n<a href=\"http://www.nasaimages.org/\">NASA Images</a>\n</li>\n<li>\n<a href=\"/apps/\">Mobile Apps</a>\n</li>\n</ul>\n</div>\n</div>\n<div class=\"sitemap_block\">\n<div class=\"footer_sitemap_item\">\n<h3 class=\"sitemap_title\">\n                      Follow JPL\n                    </h3>\n<ul class=\"subnav\">\n<li>\n<a href=\"/signup/\">Newsletter</a>\n</li>\n<li>\n<a href=\"https://www.facebook.com/NASAJPL\">Facebook</a>\n</li>\n<li>\n<a href=\"http://twitter.com/NASAJPL\">Twitter</a>\n</li>\n<li>\n<a href=\"http://www.youtube.com/user/JPLnews\">YouTube</a>\n</li>\n<li>\n<a href=\"http://www.flickr.com/photos/nasa-jpl\">Flickr</a>\n</li>\n<li>\n<a href=\"http://instagram.com/nasajpl\">Instagram</a>\n</li>\n<li>\n<a href=\"https://www.linkedin.com/company/2004/\">LinkedIn</a>\n</li>\n<li>\n<a href=\"http://itunes.apple.com/podcast/hd-nasas-jet-propulsion-laboratory/id262254981\">iTunes</a>\n</li>\n<li>\n<a href=\"http://www.ustream.tv/nasajpl\">UStream</a>\n</li>\n<li>\n<a href=\"/rss/\">RSS</a>\n</li>\n<li>\n<a href=\"http://blogs.jpl.nasa.gov\">Blog</a>\n</li>\n<li>\n<a href=\"/onthego/\">Mobile</a>\n</li>\n<li>\n<a href=\"/social/\">All Social Media</a>\n</li>\n</ul>\n</div>\n<div class=\"footer_sitemap_item\">\n<h3 class=\"sitemap_title\">\n                      NASA\n                    </h3>\n<ul class=\"subnav\">\n<li>\n<a href=\"http://jplwater.nasa.gov\">NASA Water Cleanup</a>\n</li>\n<li>\n<a href=\"http://www.hq.nasa.gov/office/pao/FOIA/agency/\">FOIA</a>\n</li>\n</ul>\n</div>\n</div>\n</div>\n</div>\n<div class=\"gradient_line\"></div>\n</section>\n<section class=\"lower_footer\">\n<div class=\"nav_container\">\n<nav>\n<ul>\n<li>\n<a href=\"http://www.nasa.gov/\" target=\"_blank\">NASA</a>\n</li>\n                  |\n                  <li>\n<a href=\"http://www.caltech.edu/\" target=\"_blank\">Caltech</a>\n</li>\n                  |\n                  <li>\n<a href=\"/privacy\">Privacy</a>\n</li>\n                  |\n                  <li>\n<a href=\"/imagepolicy\">Image Policy</a>\n</li>\n                  |\n                  <li>\n<a href=\"/faq.php\">FAQ</a>\n</li>\n                  |\n                  <li>\n<a href=\"/contact_JPL.php\">Feedback</a>\n</li>\n</ul>\n</nav>\n</div>\n<div class=\"credits\">\n<span class=\"credits_manager\">Site Manager: Veronica McGregor</span>\n<span class=\"credits_webmaster\">Site Editors: Tony Greicius, Randal Jackson</span>\n</div>\n</section> </footer>\n</div>\n</div>\n<script src=\"/assets/javascripts/vendor/prefixfree.js\" type=\"text/javascript\"></script><script src=\"/assets/javascripts/vendor/prefixfree.jquery.js\" type=\"text/javascript\"></script><script id=\"_fed_an_ua_tag\" src=\"https://dap.digitalgov.gov/Universal-Federated-Analytics-Min.js?agency=NASA&amp;pua=UA-45212297-1&amp;subagency=JPL&amp;dclink=true&amp;sp=search,s,q&amp;sdor=false&amp;exts=tif,tiff\" type=\"text/javascript\"></script>\n<script type=\"text/javascript\">\nsetTimeout(function(){var a=document.createElement(\"script\");\nvar b=document.getElementsByTagName(\"script\")[0];\na.src=document.location.protocol+\"//script.crazyegg.com/pages/scripts/0025/5267.js?\"+Math.floor(new Date().getTime()/3600000);\na.async=true;a.type=\"text/javascript\";b.parentNode.insertBefore(a,b)}, 1);\n</script>\n<!-- END FOOTER: \"DEFAULT\" -->\n<div id=\"_atssh\" style=\"visibility: hidden; height: 1px; width: 1px; position: absolute; top: -9999px; z-index: 100000;\"><iframe id=\"_atssh243\" src=\"https://s7.addthis.com/static/sh.f48a1a04fe8dbf021b4cda1d.html#rand=0.7771248603604313&amp;iit=1587604858528&amp;tmr=load%3D1587604858291%26core%3D1587604858322%26main%3D1587604858526%26ifr%3D1587604858530&amp;cb=0&amp;cdn=0&amp;md=0&amp;kw=&amp;ab=-&amp;dh=www.jpl.nasa.gov&amp;dr=&amp;du=https%3A%2F%2Fwww.jpl.nasa.gov%2Fspaceimages%2F%3Fsearch%3D%26category%3DMars&amp;href=https%3A%2F%2Fwww.jpl.nasa.gov%2Fspaceimages%2F&amp;dt=Space%20Images&amp;dbg=0&amp;cap=tc%3D0%26ab%3D0&amp;inst=1&amp;jsl=1&amp;prod=undefined&amp;lng=en&amp;ogt=&amp;pc=men&amp;pub=&amp;ssl=1&amp;sid=5ea0ed7a1a2c6d27&amp;srf=0.01&amp;ver=300&amp;xck=1&amp;xtr=0&amp;og=&amp;csi=undefined&amp;rev=v8.28.3-wp&amp;ct=1&amp;xld=1&amp;xd=1\" style=\"height: 1px; width: 1px; position: absolute; top: 0px; z-index: 100000; border: 0px; left: 0px;\" title=\"AddThis utility frame\"></iframe></div><style id=\"service-icons-0\"></style><div id=\"fancybox-lock\" style=\"overflow: auto;\"><div class=\"fancybox-wrap fancybox-dark fancybox-type-image fancybox-desktop fancybox-dark-desktop fancybox-open\" style=\"margin: 30px 55px 98px; padding-top: 10px; padding-right: 10px; padding-left: 10px; width: 252px; height: 314px; top: 220px; left: 0px; opacity: 1; overflow: visible;\"><div class=\"fancybox-inner fancybox-skin fancybox-dark-skin fancybox-dark-skin-open\" style=\"border-width: 10px; margin-top: -10px; margin-left: -10px; overflow: visible; width: 252px; height: 188px;\"><img class=\"fancybox-image\" src=\"/spaceimages/images/mediumsize/PIA16711_ip.jpg\" style=\"display: inline;\"/><a class=\"fancybox-nav fancybox-prev\" href=\"javascript:;\" title=\"Previous\"><span></span></a><a class=\"fancybox-nav fancybox-next\" href=\"javascript:;\" title=\"Next\"><span></span></a><a class=\"fancybox-expand\" href=\"javascript:;\" style=\"display: none;\" title=\"Expand image\"></a></div><div class=\"fancybox-title fancybox-title-outside-wrap\" style=\"visibility: visible; opacity: 1; left: 0px;\">MAHLI's First Night Imaging of Martian Rock, White Lighting<div addthis:description=\"A Martian rock in the \" addthis:title=\"MAHLI\" addthis:url=\"/spaceimages/details.php?id=PIA16711\" area=\"\" bay'=\"\" by=\"\" class=\"addthis_toolbox addthis_default_style\" crater=\"\" diodes.'=\"\" emitting=\"\" first=\"\" gale=\"\" illuminated=\"\" imaging=\"\" is=\"\" light=\"\" lighting'=\"\" mars'=\"\" martian=\"\" night=\"\" of=\"\" rock,=\"\" s=\"\" white=\"\" white-light=\"\" yellowknife=\"\"> <div class=\"buttons\"> <a class=\"addthis_button_compact\" href=\"#\"> <img src=\"/assets/images/content/tmp/images/share.png\"/> </a> <a class=\"button\" href=\"/spaceimages/details.php?id=PIA16711 \" target=\"_top\">more info     </a> </div><div class=\"atclear\"></div></div></div><a class=\"fancybox-close\" href=\"javascript:;\" title=\"Close\"></a><div class=\"fancybox-spacer\" style=\"height: 96px;\"></div></div></div><div class=\"fancybox-overlay fancybox-overlay-fixed fancybox-dark-overlay\"></div><div class=\"bottom\" id=\"fancybox-thumbs\" style=\"width: 382px;\"><a class=\"fancybox-thumb-prev\" href=\"javascript:;\" style=\"display: none;\"><span></span></a><div class=\"outer\"><div class=\"inner\"><ul style=\"width: 3003px; height: 58px; margin-left: 0px;\"><li class=\"fancybox-thumb-active\"><a class=\"ready\" data-index=\"0\" href=\"javascript:jQuery.fancybox.jumpto(0);\" style=\"width: 79px; height: 54px;\"><img src=\"/spaceimages/images/mediumsize/PIA16711_ip.jpg\" style=\"width: 75px; height: 55px; margin-top: -2px; margin-left: 0px;\"/></a></li><li><a class=\"ready\" data-index=\"1\" href=\"javascript:jQuery.fancybox.jumpto(1);\" style=\"width: 79px; height: 54px;\"><img src=\"/spaceimages/images/wallpaper/PIA23841-640x350.jpg\" style=\"width: 91px; height: 50px; margin-top: 0px; margin-left: -9px;\"/></a></li><li><a class=\"ready\" data-index=\"2\" href=\"javascript:jQuery.fancybox.jumpto(2);\" style=\"width: 79px; height: 54px;\"><img src=\"/spaceimages/images/wallpaper/PIA23855-640x350.jpg\" style=\"width: 91px; height: 50px; margin-top: 0px; margin-left: -9px;\"/></a></li><li><a class=\"ready\" data-index=\"3\" href=\"javascript:jQuery.fancybox.jumpto(3);\" style=\"width: 79px; height: 54px;\"><img src=\"/spaceimages/images/wallpaper/PIA23854-640x350.jpg\" style=\"width: 91px; height: 50px; margin-top: 0px; margin-left: -9px;\"/></a></li><li><a data-index=\"4\" href=\"javascript:jQuery.fancybox.jumpto(4);\" style=\"width: 79px; height: 54px;\"></a></li><li><a data-index=\"5\" href=\"javascript:jQuery.fancybox.jumpto(5);\" style=\"width: 79px; height: 54px;\"></a></li><li><a data-index=\"6\" href=\"javascript:jQuery.fancybox.jumpto(6);\" style=\"width: 79px; height: 54px;\"></a></li><li><a data-index=\"7\" href=\"javascript:jQuery.fancybox.jumpto(7);\" style=\"width: 79px; height: 54px;\"></a></li><li><a data-index=\"8\" href=\"javascript:jQuery.fancybox.jumpto(8);\" style=\"width: 79px; height: 54px;\"></a></li><li><a data-index=\"9\" href=\"javascript:jQuery.fancybox.jumpto(9);\" style=\"width: 79px; height: 54px;\"></a></li><li><a data-index=\"10\" href=\"javascript:jQuery.fancybox.jumpto(10);\" style=\"width: 79px; height: 54px;\"></a></li><li><a data-index=\"11\" href=\"javascript:jQuery.fancybox.jumpto(11);\" style=\"width: 79px; height: 54px;\"></a></li><li><a data-index=\"12\" href=\"javascript:jQuery.fancybox.jumpto(12);\" style=\"width: 79px; height: 54px;\"></a></li><li><a data-index=\"13\" href=\"javascript:jQuery.fancybox.jumpto(13);\" style=\"width: 79px; height: 54px;\"></a></li><li><a data-index=\"14\" href=\"javascript:jQuery.fancybox.jumpto(14);\" style=\"width: 79px; height: 54px;\"></a></li><li><a data-index=\"15\" href=\"javascript:jQuery.fancybox.jumpto(15);\" style=\"width: 79px; height: 54px;\"></a></li><li><a data-index=\"16\" href=\"javascript:jQuery.fancybox.jumpto(16);\" style=\"width: 79px; height: 54px;\"></a></li><li><a data-index=\"17\" href=\"javascript:jQuery.fancybox.jumpto(17);\" style=\"width: 79px; height: 54px;\"></a></li><li><a data-index=\"18\" href=\"javascript:jQuery.fancybox.jumpto(18);\" style=\"width: 79px; height: 54px;\"></a></li><li><a data-index=\"19\" href=\"javascript:jQuery.fancybox.jumpto(19);\" style=\"width: 79px; height: 54px;\"></a></li><li><a data-index=\"20\" href=\"javascript:jQuery.fancybox.jumpto(20);\" style=\"width: 79px; height: 54px;\"></a></li><li><a data-index=\"21\" href=\"javascript:jQuery.fancybox.jumpto(21);\" style=\"width: 79px; height: 54px;\"></a></li><li><a data-index=\"22\" href=\"javascript:jQuery.fancybox.jumpto(22);\" style=\"width: 79px; height: 54px;\"></a></li><li><a data-index=\"23\" href=\"javascript:jQuery.fancybox.jumpto(23);\" style=\"width: 79px; height: 54px;\"></a></li><li><a data-index=\"24\" href=\"javascript:jQuery.fancybox.jumpto(24);\" style=\"width: 79px; height: 54px;\"></a></li><li><a data-index=\"25\" href=\"javascript:jQuery.fancybox.jumpto(25);\" style=\"width: 79px; height: 54px;\"></a></li><li><a data-index=\"26\" href=\"javascript:jQuery.fancybox.jumpto(26);\" style=\"width: 79px; height: 54px;\"></a></li><li><a data-index=\"27\" href=\"javascript:jQuery.fancybox.jumpto(27);\" style=\"width: 79px; height: 54px;\"></a></li><li><a data-index=\"28\" href=\"javascript:jQuery.fancybox.jumpto(28);\" style=\"width: 79px; height: 54px;\"></a></li><li><a data-index=\"29\" href=\"javascript:jQuery.fancybox.jumpto(29);\" style=\"width: 79px; height: 54px;\"></a></li><li><a data-index=\"30\" href=\"javascript:jQuery.fancybox.jumpto(30);\" style=\"width: 79px; height: 54px;\"></a></li><li><a data-index=\"31\" href=\"javascript:jQuery.fancybox.jumpto(31);\" style=\"width: 79px; height: 54px;\"></a></li><li><a data-index=\"32\" href=\"javascript:jQuery.fancybox.jumpto(32);\" style=\"width: 79px; height: 54px;\"></a></li></ul></div></div><a class=\"fancybox-thumb-next\" href=\"javascript:;\" style=\"display: inline;\"><span></span></a></div></body></html>"
     },
     "metadata": {},
     "execution_count": 21
    }
   ],
   "source": [
    "html = browser.html\n",
    "soup = bs(html, 'html.parser')\n",
    "soup"
   ]
  },
  {
   "cell_type": "code",
   "execution_count": 23,
   "metadata": {},
   "outputs": [
    {
     "output_type": "stream",
     "name": "stdout",
     "text": "https://www.jpl.nasa/gov/spaceimages/images/mediumsize/PIA16711_ip.jpg\n"
    }
   ],
   "source": [
    "featured_url = soup.find('img', class_='fancybox-image')['src']\n",
    "featured_image_url = 'https://www.jpl.nasa/gov'+featured_url\n",
    "print(featured_image_url)"
   ]
  },
  {
   "cell_type": "markdown",
   "metadata": {},
   "source": [
    "## Mars Weather"
   ]
  },
  {
   "cell_type": "code",
   "execution_count": 27,
   "metadata": {},
   "outputs": [],
   "source": [
    "#Visit the Mars Weather twitter account here (https://twitter.com/marswxreport?lang=en) and scrape the latest Mars weather tweet from the page. Save the tweet text for the weather report as a variable called mars_weather\n",
    "\n",
    "#LOOK AT HTML OF SITE when not logged into Twitter\n",
    "#Parse HTML of the URL and use the find() funtion to get the tag of the latest tweet\n",
    "#Save it as a variable\n",
    "\n",
    "executable_path = {'executable_path': 'chromedriver.exe'}\n",
    "browser = Browser('chrome', **executable_path, headless=False)\n",
    "\n",
    "url = 'https://twitter.com/marswxreport?lang=en'\n",
    "browser.visit(url)\n",
    "\n",
    "#Takes us to a Twitter page where it needs js enabled to get the tweet content"
   ]
  },
  {
   "cell_type": "code",
   "execution_count": 25,
   "metadata": {},
   "outputs": [],
   "source": [
    "html = browser.html\n",
    "soup = bs(html, 'html.parser')\n"
   ]
  },
  {
   "cell_type": "code",
   "execution_count": 26,
   "metadata": {},
   "outputs": [
    {
     "output_type": "stream",
     "name": "stdout",
     "text": "Don’t miss what’s happening\n"
    }
   ],
   "source": [
    "mars_weather = soup.find('span', class_=\"css-901oao css-16my406 r-1qd0xha r-ad9z0x r-bcqeeo r-qvutc0\").text\n",
    "\n",
    "print(mars_weather)"
   ]
  },
  {
   "cell_type": "markdown",
   "metadata": {},
   "source": [
    "## Mars Facts"
   ]
  },
  {
   "cell_type": "code",
   "execution_count": 28,
   "metadata": {},
   "outputs": [
    {
     "output_type": "execute_result",
     "data": {
      "text/plain": "[                      0                              1\n 0  Equatorial Diameter:                       6,792 km\n 1       Polar Diameter:                       6,752 km\n 2                 Mass:  6.39 × 10^23 kg (0.11 Earths)\n 3                Moons:            2 (Phobos & Deimos)\n 4       Orbit Distance:       227,943,824 km (1.38 AU)\n 5         Orbit Period:           687 days (1.9 years)\n 6  Surface Temperature:                   -87 to -5 °C\n 7         First Record:              2nd millennium BC\n 8          Recorded By:           Egyptian astronomers,\n                       0                              1\n 0             Diameter:                       3,475 km\n 1                 Mass:  7.35 × 10^22 kg (0.01 Earths)\n 2               Orbits:                      The Earth\n 3       Orbit Distance:                     384,400 km\n 4         Orbit Period:                      27.3 days\n 5  Surface Temperature:                 -233 to 123 °C,\n   Mars - Earth Comparison             Mars            Earth\n 0               Diameter:         6,779 km        12,742 km\n 1                   Mass:  6.39 × 10^23 kg  5.97 × 10^24 kg\n 2                  Moons:                2                1\n 3      Distance from Sun:   227,943,824 km   149,598,262 km\n 4         Length of Year:   687 Earth days      365.24 days\n 5            Temperature:    -153 to 20 °C      -88 to 58°C,\n                       0                              1\n 0  Equatorial Diameter:                       6,792 km\n 1       Polar Diameter:                       6,752 km\n 2                 Mass:  6.39 × 10^23 kg (0.11 Earths)\n 3                Moons:            2 (Phobos & Deimos)\n 4       Orbit Distance:       227,943,824 km (1.38 AU)\n 5         Orbit Period:           687 days (1.9 years)\n 6  Surface Temperature:                   -87 to -5 °C\n 7         First Record:              2nd millennium BC\n 8          Recorded By:           Egyptian astronomers]"
     },
     "metadata": {},
     "execution_count": 28
    }
   ],
   "source": [
    "#Visit the Mars Facts webpage here (https://space-facts.com/mars/) and use Pandas to scrape the table containing facts about the planet including Diameter, Mass, etc.\n",
    "#Use Pandas to convert the data to a HTML table string.\n",
    "\n",
    "#Use pandas to read_html() of the URL\n",
    "#Look at created dataframe to get the planet facts table from the index values\n",
    "#Make a dataframe of just the planet facts index \n",
    "\n",
    "url = 'https://space-facts.com/mars/'\n",
    "tables = pd.read_html(url)\n",
    "\n",
    "tables\n",
    "#First table appears to be info for Mars"
   ]
  },
  {
   "cell_type": "code",
   "execution_count": 32,
   "metadata": {},
   "outputs": [],
   "source": [
    "mars_df = tables[0]\n",
    "\n",
    "mars_df.columns = ['','Value']\n",
    "mars_df.to_html('mars_table.html', index=False)"
   ]
  },
  {
   "cell_type": "markdown",
   "metadata": {},
   "source": [
    "## Mars Hemispheres"
   ]
  },
  {
   "cell_type": "code",
   "execution_count": 37,
   "metadata": {},
   "outputs": [
    {
     "output_type": "stream",
     "name": "stdout",
     "text": "[{'img_url': 'https://astrogeology.usgs.gov/cache/images/cfa62af2557222a02478f1fcd781d445_cerberus_enhanced.tif_full.jpg', 'title': 'Cerberus Hemisphere'}, {'img_url': 'https://astrogeology.usgs.gov/cache/images/7cf2da4bf549ed01c17f206327be4db7_valles_marineris_enhanced.tif_full.jpg', 'title': 'Valles Marineris Hemisphere'}, {'img_url': 'https://astrogeology.usgs.gov/cache/images/ae209b4e408bb6c3e67b6af38168cf28_syrtis_major_enhanced.tif_full.jpg', 'title': 'Syrtis Major Hemisphere'}, {'img_url': 'https://astrogeology.usgs.gov/cache/images/7cf2da4bf549ed01c17f206327be4db7_valles_marineris_enhanced.tif_full.jpg', 'title': 'Valles Marineris Hemisphere'}]\n"
    }
   ],
   "source": [
    "#Visit the USGS Astrogeology site here (https://astrogeology.usgs.gov/search/results?q=hemisphere+enhanced&k1=target&v1=Mars) to obtain high resolution images for each of Mar's hemispheres.\n",
    "#You will need to click each of the links to the hemispheres in order to find the image url to the full resolution image.\n",
    "#Save both the image url string for the full resolution hemisphere image, and the Hemisphere title containing the hemisphere name. Use a Python dictionary to store the data using the keys img_url and title.\n",
    "#Append the dictionary with the image url string and the hemisphere title to a list. This list will contain one dictionary for each hemisphere.\n",
    "\n",
    "#Use splinter to browse(url)\n",
    "#Parse HTML to get the destinations to click the image links\n",
    "#LOOK AT HTML FOR THE TAGS\n",
    "#Make an empty list\n",
    "#Use for loop to run through the images\n",
    "#Click on the images to get the image URL\n",
    "#Parse HTML to get image title\n",
    "#Make dictionary of title and image URL\n",
    "#Append dictionary to list\n",
    "#End For\n",
    "\n",
    "url = 'https://astrogeology.usgs.gov/search/results?q=hemisphere+enhanced&k1=target&v1=Mars'\n",
    "browser.visit(url)\n",
    "hemi_list = []\n",
    "html = browser.html\n",
    "soup = bs(html,'html.parser')\n",
    "\n",
    "hemi_links = soup.find_all('div', class_='item')\n",
    "\n",
    "for x in hemi_links:\n",
    "    \n",
    "    browser.click_link_by_partial_text('Enhanced')\n",
    "    html = browser.html\n",
    "    soup = bs(html,'html.parser')\n",
    "\n",
    "    image_url = soup.find('img', class_='wide-image')['src']\n",
    "    image_title = soup.find('h2',class_='title').text\n",
    "    image_title = image_title.replace('Enhanced','')\n",
    "    image_title = image_title.rstrip(' ')\n",
    "\n",
    "    hemi_data = {\n",
    "        'img_url' : 'https://astrogeology.usgs.gov'+image_url,\n",
    "        'title': image_title\n",
    "    }\n",
    "    \n",
    "    hemi_list.append(hemi_data)\n",
    "\n",
    "print(hemi_list)"
   ]
  },
  {
   "cell_type": "code",
   "execution_count": null,
   "metadata": {},
   "outputs": [],
   "source": []
  }
 ],
 "metadata": {
  "language_info": {
   "name": "python",
   "codemirror_mode": {
    "name": "ipython",
    "version": 3
   },
   "version": "3.7.4-final"
  },
  "orig_nbformat": 2,
  "file_extension": ".py",
  "mimetype": "text/x-python",
  "name": "python",
  "npconvert_exporter": "python",
  "pygments_lexer": "ipython3",
  "version": 3,
  "kernelspec": {
   "name": "python37464bitpythondatacondaaf71fc3f5dd34866a438487bc0d8ac87",
   "display_name": "Python 3.7.4 64-bit ('PythonData': conda)"
  }
 },
 "nbformat": 4,
 "nbformat_minor": 2
}